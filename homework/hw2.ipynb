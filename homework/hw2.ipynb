{
 "cells": [
  {
   "cell_type": "markdown",
   "metadata": {},
   "source": [
    "## algorithm design and anlysis-2025 spring  homework 2\n",
    "**Deadline**：2025.5.14\n",
    "\n",
    "**name**:\n",
    "\n",
    "\n",
    "note：\n",
    "---\n",
    "1. 带有\\*的题目，申请免上课的同学，必须完成，其他同学选作；\n",
    "2. 请独立完成，如求助了他人或者大模型，请著明，并且不可省略算法分析部分；\n",
    "4. 如若作答有雷同，全部取消成绩；\n",
    "3. 需要书面作答的题目，可以通过引用图片的形式添加，但是注意上传项目时包含所引用的图片的源文件；\n",
    "4. $log_n$ 默认表示$log_2{n}$;"
   ]
  },
  {
   "cell_type": "markdown",
   "metadata": {},
   "source": [
    "## 问题 1  \n",
    "\n",
    "> 给定一个已排序的链表的头 `head` ， *删除所有重复的元素，使每个元素只出现一次* 。返回 *已排序的链表* 。链表的类如下所示：\n",
    "\n",
    "```python\n",
    "class NodeList:\n",
    "    def __init__(self, val=None, right=None):\n",
    "        self.val   = val\n",
    "        self.right = right\n",
    "```\n",
    "\n",
    "输入是一个数组，你首先需要将数组转化为链表，然后删除链表中的重复元素，再遍历链表元素，以一个数组的形式返回。请设计一个算法解决上述任务，分析算法设计思路，计算时间复杂度, 并基于python编程实现。\n",
    "\n",
    "e.g.  输入：head=[1, 1, 2, 3, 3]   输出：[1, 2, 3]\n",
    "\n",
    "![image-20240502110020439](./fig/hw2q1.png)\n",
    "\n"
   ]
  },
  {
   "cell_type": "markdown",
   "metadata": {},
   "source": [
    "idea：\n",
    "为了解决这个问题，我将使用一个哈希集合来跟踪已经遇到的元素，以确保每个元素只出现一次。遍历链表，对于每个节点，检查其值是否已经在哈希集合中。如果不在，将其添加到集合中，并将其值添加到结果数组中。如果在集合中找到了重复的值，跳过该节点。\n",
    "时间复杂度为 $O(n)$，其中 n 是链表的长度。这是因为我们需要遍历链表中的每个节点一次。"
   ]
  },
  {
   "cell_type": "code",
   "execution_count": 15,
   "metadata": {},
   "outputs": [
    {
     "name": "stdout",
     "output_type": "stream",
     "text": [
      "输出: [1, 2, 3]\n"
     ]
    }
   ],
   "source": [
    "class NodeList:\n",
    "    def __init__(self, val=None, right=None):\n",
    "        self.val = val\n",
    "        self.right = right\n",
    "\n",
    "def remove_duplicates(head):\n",
    "    if not head:\n",
    "        return None\n",
    "    \n",
    "    seen = set()\n",
    "    current = head\n",
    "    prev = None\n",
    "    while current:\n",
    "        if current.val in seen:\n",
    "            prev.right = current.right\n",
    "        else:\n",
    "            seen.add(current.val)\n",
    "            prev = current\n",
    "        current = current.right\n",
    "    \n",
    "    return head\n",
    "\n",
    "# 测试\n",
    "def create_linked_list(arr):\n",
    "    if not arr:\n",
    "        return None\n",
    "    head = NodeList(arr[0])\n",
    "    current = head\n",
    "    for val in arr[1:]:\n",
    "        current.right = NodeList(val)\n",
    "        current = current.right\n",
    "    return head\n",
    "\n",
    "def print_linked_list(head):\n",
    "    result = []\n",
    "    while head:\n",
    "        result.append(head.val)\n",
    "        head = head.right\n",
    "    return result\n",
    "\n",
    "# 创建链表\n",
    "head = create_linked_list([1, 1, 2, 3, 3])\n",
    "# 删除重复元素\n",
    "result_head = remove_duplicates(head)\n",
    "# 输出结果\n",
    "print(\"输出:\", print_linked_list(result_head))"
   ]
  },
  {
   "cell_type": "markdown",
   "metadata": {},
   "source": [
    "## 问题 2  \n",
    "\n",
    "> 下面是一个经典的算法问题：\n",
    ">\n",
    "> - 给定包含n个整数的一个整数数组 `nums` 和一个整数目标值 `target`，请你在该数组中找出 **和为目标值** *`target`* 的那 **两个** 整数，并返回它们的**数组下标**。假设每种输入只会对应一个答案。但是，数组中同一个元素在答案里不能重复出现。你可以按任意顺序返回答案。\n",
    ">\n",
    "> 由于要多次查找数组中元素的位置，为了提高查询效率可以使用哈希表来存储数组中的数据，在哈希表中查询一个元素的复杂度为O(1)。 已知python中的字典是使用哈希表实现的，即使用`dict[key]`查询对应的value时间复杂度为O(1), python提供了查询字典是否包含某个key的功能：`key in dict`，时间复杂度也是O(1)\n",
    "\n",
    "请根据上面信息，设计一个时间复杂度为O(n) 的算法，解决上述算法问题\n",
    "\n",
    "e.g.   \n",
    "\n",
    "输入：nums=[2,7,11,15], target=9， 输出：[0，1]\n",
    "\n",
    "输入：nums=[3,2,4], target=6, 输出：[1,2]\n",
    "\n",
    "输入：nums=[3,3], target=6,  输出：[0,1]\n"
   ]
  },
  {
   "cell_type": "markdown",
   "metadata": {},
   "source": [
    "这个问题可以通过哈希表来解决。首先遍历数组，使用哈希表记录每个元素的索引。然后，再次遍历数组，对于每个元素，计算 $target - nums[i]$ 的值，并检查这个值是否存在于哈希表中。如果存在，就找到了两个数，它们的和为 target。\n",
    "时间复杂度为 $O(n)$，其中 n 是数组的长度。这是因为我们需要遍历数组两次，每次遍历的时间复杂度都是 $O(n)$。\n"
   ]
  },
  {
   "cell_type": "code",
   "execution_count": 16,
   "metadata": {},
   "outputs": [
    {
     "name": "stdout",
     "output_type": "stream",
     "text": [
      "[0, 1]\n",
      "[1, 2]\n",
      "[0, 1]\n"
     ]
    }
   ],
   "source": [
    "def two_sum(nums, target):\n",
    "    num_dict = {}  # 创建一个哈希表来存储数组元素及其索引\n",
    "    for i, num in enumerate(nums):\n",
    "        complement = target - num\n",
    "        if complement in num_dict:\n",
    "            return [num_dict[complement], i]\n",
    "        num_dict[num] = i\n",
    "    return []\n",
    "\n",
    "# 测试\n",
    "print(two_sum([2, 7, 11, 15], 9))  # 输出: [0, 1]\n",
    "print(two_sum([3, 2, 4], 6))       # 输出: [1, 2]\n",
    "print(two_sum([3, 3], 6))         # 输出: [0, 1]"
   ]
  },
  {
   "cell_type": "markdown",
   "metadata": {},
   "source": [
    "## 问题 3:   \n",
    "\n",
    "> 栈是一种常用的数据结构，编译器中通常使用栈来实现表达式求值。\n",
    ">\n",
    "> 以表达式 $3+5 \\times 8-6$​ 为例。编译器使用两个栈来完成运算，即一个栈保持操作数，另一个栈保存运算符。\n",
    ">\n",
    "> 1. 从左向右遍历表达式，遇到数字就压入操作数栈；\n",
    ">\n",
    "> 2. 遇到运算符，就与运算符栈的栈顶元素进行比较。如果比运算符栈顶元素的优先级高，就将当前运算符压入栈；如果比运算符栈顶元素的优先级低或者相同，从运算符栈中取栈顶运算符，从操作数栈的栈顶取 2 个操作数，然后进行计算，再把计算完的结果压入操作数栈，继续比较。\n",
    ">\n",
    "> 下图是 $3+5 \\times 8-6$  这个表达式的计算过程：\n",
    "\n",
    "![figure](./fig/hw2q3.png)\n",
    "\n",
    "根据上述原理，请设计一个算法完成表达式的运算，当输入为表达式字符串，返回对应的计算结果。分析算法设计思路，计算时间复杂度，并基于python编程实现\n",
    "\n",
    "**note：**\n",
    "\n",
    "1. 假设输入的表达式只会出现加（“+”），减 “-”， 乘“*”，除 “/” 四个运算符, 表达式中只会出现正整数\n",
    "2. python中` str.isdigit()`函数可以判断字符串str是否为数字，\n",
    "\n",
    "\n",
    "\n",
    "e.g. :\n",
    "---\n",
    "\n",
    "1. 输入：“$3+5 * 8 -6$”   输出：37\n",
    "\n",
    "2. 输入：“$34+13*9 + 44-12/3$”  输出：191"
   ]
  },
  {
   "cell_type": "markdown",
   "metadata": {},
   "source": [
    "idea："
   ]
  },
  {
   "cell_type": "markdown",
   "metadata": {},
   "source": [
    "用两个栈来实现这个算法：一个用于存储操作数，另一个用于存储操作符。算法的基本步骤如下：\n",
    "从左到右遍历表达式中的每个字符。\n",
    "如果字符是数字，将其压入操作数栈。\n",
    "如果字符是操作符，从操作符栈中弹出一个操作符（如果可能），从操作数栈中弹出所需数量的操作数，执行计算，并将结果压入操作数栈，然后将当前操作符压入操作符栈。\n",
    "如果字符是左括号，将其压入操作符栈。\n",
    "如果字符是右括号，从操作符栈中弹出操作符并从操作数栈中弹出操作数，执行计算，直到遇到左括号为止，然后将左括号弹出。"
   ]
  },
  {
   "cell_type": "code",
   "execution_count": 17,
   "metadata": {},
   "outputs": [
    {
     "name": "stdout",
     "output_type": "stream",
     "text": [
      "37\n",
      "191\n"
     ]
    }
   ],
   "source": [
    "def evaluate_expression(expression):\n",
    "    def apply_operator(operands, operator):\n",
    "        b = operands.pop()\n",
    "        a = operands.pop()\n",
    "        if operator == '+':\n",
    "            return a + b\n",
    "        elif operator == '-':\n",
    "            return a - b\n",
    "        elif operator == '*':\n",
    "            return a * b\n",
    "        elif operator == '/':\n",
    "            return int(a / b)  # 使用int()进行整数除法\n",
    "\n",
    "    def greater_precedence(op1, op2):\n",
    "        precedence = {'+': 1, '-': 1, '*': 2, '/': 2}\n",
    "        return precedence[op1] > precedence[op2]\n",
    "\n",
    "    operands = []\n",
    "    operators = []\n",
    "    i = 0\n",
    "    while i < len(expression):\n",
    "        if expression[i].isdigit():\n",
    "            val = 0\n",
    "            while i < len(expression) and expression[i].isdigit():\n",
    "                val = (val * 10) + int(expression[i])\n",
    "                i += 1\n",
    "            operands.append(val)\n",
    "            i -= 1\n",
    "        elif expression[i] in \"+-*/\":\n",
    "            while (operators and operators[-1] != '(' and\n",
    "                   greater_precedence(operators[-1], expression[i])):\n",
    "                operands.append(apply_operator(operands, operators.pop()))\n",
    "            operators.append(expression[i])\n",
    "        elif expression[i] == '(':\n",
    "            operators.append(expression[i])\n",
    "        elif expression[i] == ')':\n",
    "            while operators[-1] != '(':\n",
    "                operands.append(apply_operator(operands, operators.pop()))\n",
    "            operators.pop()  # 弹出左括号\n",
    "        i += 1\n",
    "\n",
    "    while operators:\n",
    "        operands.append(apply_operator(operands, operators.pop()))\n",
    "\n",
    "    return operands[0]\n",
    "\n",
    "# 测试\n",
    "print(evaluate_expression(\"3 + 5 * 8 - 6\"))  # 输出: 37\n",
    "print(evaluate_expression(\"34 + 13 * 9 + 44 - 12 / 3\"))  # 输出: 191"
   ]
  },
  {
   "cell_type": "markdown",
   "metadata": {},
   "source": [
    "## 问题 4:  \n",
    "\n",
    "> 星球碰撞问题：现有n个星球，在同一条直线上运行，如数组A所示，元素的绝对值表示星球的质量，负数表示星球自右向左运动，正数表示星球自左向右运动，当两个星球相撞的时候，质量小的会消失，大的保持不变，**质量相同的两个星球碰撞后自右向左运动的星球消失，自左向右的星球保持不变**，假设所有星球的速度大小相同。\n",
    ">\n",
    "> $ A=[23,-8, 9, -3, -7, 9, -23, 22] $\n",
    "\n",
    "请设计一个算法模拟星球的运行情况，输出最终的星球存续情况（输出一个数组），分析算法设计思路，计算时间复杂度，并基于python编程实现。\n",
    "\n",
    "e.g.\n",
    "---\n",
    "1.  输入： A=[-3,-6,2,8, 5,-8,9,-2,1]， 输出：[-3, -6, 2, 8, 9, 1]\n",
    "\n",
    "2. 输入：A=[23,-8, 9, -3, -7, 9, -23, 22], 输出：[23, 22]\n",
    "\n"
   ]
  },
  {
   "cell_type": "markdown",
   "metadata": {},
   "source": [
    "创建一个空栈 survivors 来存储最终存活的星球。\n",
    "遍历数组 A 中的每个星球：\n",
    "如果 survivors 为空，或者当前星球的质量大于 survivors 栈顶星球的质量，将当前星球压入 survivors 栈。\n",
    "如果当前星球的质量等于 survivors 栈顶星球的质量，弹出 survivors 栈顶的星球（因为它们相撞后都消失），并且当前星球也不加入 survivors 栈。\n",
    "如果当前星球的质量小于 survivors 栈顶星球的质量，弹出 survivors 栈顶的星球（因为当前星球被撞毁），然后重复这个过程，直到找到可以存活的星球或者 survivors 栈为空。\n",
    "将 survivors 栈中的星球转换为原始数组中对应的元素（考虑正负号），并返回结果数组。\n",
    "\n",
    "时间复杂度为 $O(n^2)$ )，其中 n 是数组的长度。这是因为在最坏情况下，每个新加入的星球都可能需要与栈中的所有星球进行比较。"
   ]
  },
  {
   "cell_type": "code",
   "execution_count": 27,
   "metadata": {},
   "outputs": [
    {
     "name": "stdout",
     "output_type": "stream",
     "text": [
      "输出1: [-3, -6, 2, 9, 1]\n",
      "输出2: [22]\n",
      "输出3: [22]\n"
     ]
    }
   ],
   "source": [
    "def asteroid_collision(asteroids):\n",
    "    stack = []\n",
    "    for asteroid in asteroids:\n",
    "        while stack and asteroid < 0 < stack[-1]:\n",
    "            if stack[-1] < -asteroid:\n",
    "                stack.pop()\n",
    "            elif stack[-1] == -asteroid:\n",
    "                stack.pop()\n",
    "                break\n",
    "            else:\n",
    "                break\n",
    "        else:\n",
    "            stack.append(asteroid)\n",
    "    return stack\n",
    "\n",
    "# 测试用例\n",
    "A1 = [-3, -6, 2, 8, 5, -8, 9, -2, 1]\n",
    "A2 = [23, -8, 9, -3, -7, 9, -23, 22]\n",
    "A3 = [23, -8, 9, -3, -7, 9, -23, 22]\n",
    "print(\"输出1:\", asteroid_collision(A1)) \n",
    "print(\"输出2:\", asteroid_collision(A2))  \n",
    "print(\"输出3:\", asteroid_collision(A3))  "
   ]
  },
  {
   "cell_type": "markdown",
   "metadata": {},
   "source": [
    "## 问题 5 \n",
    "\n",
    "> 给定一个无序数组nums=[9,-3,-10,0,9,7,33]，请建立一个二叉搜索树存储数组中的所有元素，之后删除二叉树中的元素“0”，再使用中序遍历输出二叉搜索树中的所有元素。\n",
    "\n",
    "使用python编程完成上述任务，并计算时间复杂度\n"
   ]
  },
  {
   "cell_type": "code",
   "execution_count": 11,
   "metadata": {},
   "outputs": [
    {
     "name": "stdout",
     "output_type": "stream",
     "text": [
      "二叉搜索树中的所有元素: [-10, -3, 9, 9, 33]\n"
     ]
    }
   ],
   "source": [
    "# add your idea here\n",
    "class TreeNode:\n",
    "    def __init__(self, val=0, left=None, right=None):\n",
    "        self.val = val\n",
    "        self.left = left\n",
    "        self.right = right\n",
    "\n",
    "def insert_into_bst(root, val):\n",
    "    if not root:\n",
    "        return TreeNode(val)\n",
    "    if val < root.val:\n",
    "        root.left = insert_into_bst(root.left, val)\n",
    "    else:\n",
    "        root.right = insert_into_bst(root.right, val)\n",
    "    return root\n",
    "\n",
    "def delete_zero(root):\n",
    "    if not root:\n",
    "        return None\n",
    "    root.left = delete_zero(root.left)\n",
    "    root.right = delete_zero(root.right)\n",
    "    if root.val == 0:\n",
    "        return None\n",
    "    return root\n",
    "\n",
    "def inorder_traversal(root):\n",
    "    result = []\n",
    "    if root:\n",
    "        result = inorder_traversal(root.left)\n",
    "        result.append(root.val)\n",
    "        result = result + inorder_traversal(root.right)\n",
    "    return result\n",
    "\n",
    "def build_and_traverse(nums):\n",
    "    if not nums:\n",
    "        return []\n",
    "    \n",
    "    root = None\n",
    "    for num in nums:\n",
    "        root = insert_into_bst(root, num)\n",
    "    \n",
    "    root = delete_zero(root)\n",
    "    \n",
    "    return inorder_traversal(root)\n",
    "\n",
    "# 测试\n",
    "nums = [9, -3, -10, 0, 9, 7, 33]\n",
    "result = build_and_traverse(nums)\n",
    "print(\"二叉搜索树中的所有元素:\", result)\n",
    "# your algorithm time complexity is:"
   ]
  },
  {
   "cell_type": "markdown",
   "metadata": {},
   "source": [
    "构建BST的时间复杂度为 $O(nlogn)$，其中 n 是数组的长度。这是因为在最坏情况下，BST可能会退化成链表，导致插入操作的时间复杂度为 $O(n)$。\r\n",
    "删除所有值为0的节点的时间复杂度为$ O(n$)，因为我们需要遍历BST中的所有节点。\r\n",
    "中序遍历的时间复杂度$为 O($n)，因为我们需要访问BST中的所有节点。\r\n",
    "因此，总的时间复杂$度为 O(nlo$gn)。"
   ]
  },
  {
   "cell_type": "markdown",
   "metadata": {},
   "source": [
    "## 问题 6  \n",
    "\n",
    "> 给定一个包含大写字母和小写字母的字符串 s ，返回 字符串包含的 **最长的回文子串的长度** 。请注意 区分大小写 。比如 \"Aa\" 不能当做一个回文字符串。\n",
    ">\n",
    "\n",
    "请设计一个算法解决上述问题，只需要输出最长回文子串的长度，分析算法设计思路，计算时间复杂度，并基于python编程实现\n",
    "\n",
    "e.g. 输入： s=\"adccaccd\"，  输出：7。 最长回文子串为：\"dccaccd\", 长度为7\n"
   ]
  },
  {
   "cell_type": "markdown",
   "metadata": {},
   "source": [
    "idea：\n",
    "这个问题可以通过动态规划来解决。我们定义一个二维数组 $dp$，其中 $dp[i][j]$ 表示字符串从索引$ i$ 到 $j $的最长回文子串的长度。\n",
    "如果 $s[i] == s[j]$ 并且 $dp[i+1][j-1]$ 是一个回文，那么 $dp[i][j] = dp[i+1][j-1] + 2$。\r\n",
    "否则$，dp[i][j] = max(dp[i+1][j], dp[i][j-1]$)。"
   ]
  },
  {
   "cell_type": "code",
   "execution_count": 9,
   "metadata": {},
   "outputs": [
    {
     "name": "stdout",
     "output_type": "stream",
     "text": [
      "最长回文子串的长度为： 2\n"
     ]
    }
   ],
   "source": [
    "# add your idea here\n",
    "def longest_palindrome(s):\n",
    "    n = len(s)\n",
    "    if n < 2:\n",
    "        return n\n",
    "    \n",
    "    # 初始化dp数组\n",
    "    dp = [[0] * n for _ in range(n)]\n",
    "    \n",
    "    # 单个字符是回文，长度为1\n",
    "    for i in range(n):\n",
    "        dp[i][i] = 1\n",
    "    \n",
    "    # 填充dp数组\n",
    "    max_length = 1\n",
    "    start = 0\n",
    "    for length in range(2, n + 1):  # 子串长度\n",
    "        for i in range(n - length + 1):\n",
    "            j = i + length - 1\n",
    "            if s[i] == s[j] and (length == 2 or dp[i + 1][j - 1] == 1):\n",
    "                dp[i][j] = 1 + (dp[i + 1][j - 1] if length > 2 else 0)\n",
    "                max_length = max(max_length, dp[i][j])\n",
    "                start = i\n",
    "    \n",
    "    return max_length\n",
    "\n",
    "# 测试\n",
    "s = \"adcacccd\"\n",
    "print(\"最长回文子串的长度为：\", longest_palindrome(s))\n",
    "# your algorithm time complexity is:\n"
   ]
  },
  {
   "cell_type": "markdown",
   "metadata": {},
   "source": [
    "时间复杂度为 $O(n ^2)$，其中 n 是字符串的长度。这是因为我们需要填充一个 n×n 的二维数组。"
   ]
  },
  {
   "cell_type": "markdown",
   "metadata": {},
   "source": [
    "## 问题 7 \n",
    "\n",
    "> 沿一条长河流分散着n座房子。你可以把这条河想象成一条轴，房子是由它们在这条轴上的坐标按顺序排列的。你的公司想在河边的特定地点设置手机基站，这样每户人家都在距离基站4公里的范围内。输入可以看作为一个升序数组，数组元素的取值为大于等于0的正整数，你需要输出最小基站的数目，基站的位置。\n",
    "\n",
    "1. 给出一个时间复杂度为$O(n$) 的算法，使所使用的基站数量最小化，分析算法设计思路，使用python编程实现\n",
    "2. 证明1.中算法产生了最优解决方案。\n",
    "\n",
    "e.g. \n",
    "\n",
    "输入： [1, 5, 12, 33, 34,35]  输出：基站数目为3， 基站位置为[1，12，33]\n",
    "\n"
   ]
  },
  {
   "cell_type": "markdown",
   "metadata": {},
   "source": [
    "idea：\n",
    "这个问题可以通过贪心算法来解决。目标是最小化基站的数量，同时确保每个房子都在至少一个基站的覆盖范围内。由于每个基站的覆盖范围是4公里，我们可以从左到右遍历房子的位置，每次放置基站时，尽可能覆盖更多的房子。\n",
    "对房子的位置进行排序（如果未排序）。\r\n",
    "初始化一个空列表 stations 来存储基站的位置。\r\n",
    "使用两个指$针$ i $和$ j，其$中$ i 表示当前考虑的房$子$，j 表示当前基站的覆盖范围。\r\n",
    "遍历每个房子，如果当前房子$不$在 j 覆盖的范围内，$则$在 i 的位置放置一个新的基站，并$更$新 j。\r\n",
    "将新基站的位置添加到 stations 列表中。"
   ]
  },
  {
   "cell_type": "code",
   "execution_count": 8,
   "metadata": {},
   "outputs": [
    {
     "name": "stdout",
     "output_type": "stream",
     "text": [
      "基站数目为 3 基站位置为 [1, 12, 33]\n"
     ]
    }
   ],
   "source": [
    "def place_stations(houses):\n",
    "    if not houses:\n",
    "        return []\n",
    "    \n",
    "    # 对房子的位置进行排序\n",
    "    houses.sort()\n",
    "    stations = []\n",
    "    current_station = 0\n",
    "    \n",
    "    while current_station < len(houses):\n",
    "        # 在最左边界放置基站，覆盖尽可能多的房子\n",
    "        station = houses[current_station]\n",
    "        while current_station + 1 < len(houses) and houses[current_station + 1] - station <= 4:\n",
    "            current_station += 1\n",
    "        stations.append(station)\n",
    "        current_station += 1\n",
    "    \n",
    "    return stations\n",
    "\n",
    "# 测试\n",
    "houses = [1, 5, 12, 33, 34, 35]\n",
    "stations = place_stations(houses)\n",
    "print(\"基站数目为\", len(stations), \"基站位置为\", stations)"
   ]
  },
  {
   "cell_type": "markdown",
   "metadata": {},
   "source": [
    "贪心算法的每一步都做出局部最优的选择，即在当前位置放置基站以覆盖最多的房子。由于问题的性质（每个房子都需要被覆盖，且基站覆盖范围固定），这种局部最优选择可以导致全局最优解。具体来说，如果我们在某个位置不放置基站，那么在该位置之后的房子将无法被覆盖，这与我们的目标相矛盾。因此，贪心算法在这个问题上是有效的，可以产生最优解。"
   ]
  },
  {
   "cell_type": "markdown",
   "metadata": {},
   "source": [
    "## 问题 8  \n",
    "\n",
    "> 给定由n个正整数组成的一个集合$S = \\{a_1, a_2，···，a_n\\}$和一个正整数W，设计一个算法确定是否存在S的一个子集 $K \\subseteq S$, 使K中所有数之和为 $W$, 如果存在返回“True”，否则返回“False”\n",
    "\n",
    "请设计一个时间复杂度为$O(nW)$动态规划算法，解决上述问题，分析算法的设计思路，并且基于python编程实现（不需要输出子集）。\n",
    "\n",
    "e.g. \n",
    "\n",
    "输入：S = {1,4,7,3,5}， W = 11，输出：True。   因为K可以是{4,7}。\n",
    "\n"
   ]
  },
  {
   "cell_type": "markdown",
   "metadata": {},
   "source": [
    "idea：\n",
    "这个问题可以通过动态规划来解决。我定义一个二维布尔数组 $dp$，其中 $dp[i][j]$ 表示是否存在一个子集，其元素下标从 $0$ 到 $i-1$，和为 $j$。\n",
    "$$dp[i][j] = dp[i-1][j] \\text{ or } (dp[i-1][j-a_i] \\text{ if } j \\geq a_i)$$\n",
    "$)\r\n",
    "$其中，$a_i 是第 i 个元素的值。"
   ]
  },
  {
   "cell_type": "code",
   "execution_count": 4,
   "metadata": {},
   "outputs": [
    {
     "name": "stdout",
     "output_type": "stream",
     "text": [
      "输出: True\n"
     ]
    }
   ],
   "source": [
    "# add your idea here\n",
    "def subset_sum(S, W):\n",
    "    n = len(S)\n",
    "    # 初始化dp数组\n",
    "    dp = [[False] * (W + 1) for _ in range(n + 1)]\n",
    "    # 和为0的子集总是存在\n",
    "    for i in range(n + 1):\n",
    "        dp[i][0] = True\n",
    "\n",
    "    # 填充dp数组\n",
    "    for i in range(1, n + 1):\n",
    "        for j in range(1, W + 1):\n",
    "            if S[i-1] <= j:\n",
    "                dp[i][j] = dp[i-1][j] or dp[i-1][j-S[i-1]]\n",
    "            else:\n",
    "                dp[i][j] = dp[i-1][j]\n",
    "\n",
    "    return dp[n][W]\n",
    "\n",
    "# 测试\n",
    "S = [1, 4, 7, 3, 5]\n",
    "W = 11\n",
    "print(\"输出:\", subset_sum(S, W))  # 输出: True\n",
    "# your algorithm time complexity is: O(nW)"
   ]
  },
  {
   "cell_type": "markdown",
   "metadata": {},
   "source": [
    "\n",
    "\n",
    "## 问题 9 \n",
    "\n",
    "> 给定一个n个物品的集合。物体的重量为$w_1, w_2，…、w_n$，物品的价值分别是$v_1、v_2、…v_n$。给你**两个**重量为 $c$ 的背包。如果你带了一个东西，它可以放在一个背包里，也可以放在另一个背包里，但不能同时放在两个背包里。所有权重和价值都是正整数。\n",
    "\n",
    "1. 设计一个时间复杂度为 $O(nc^2)$ 的动态规划算法，确定可以放入两个背包的物体的最大价值。分析算法设计思路，并基于python编程实现\n",
    "2. \\* 修改1中的算法，输出每个背包的内容（物品对应下标）。\n",
    "\n",
    "e.g.: \n",
    "\n",
    "输入 V=[1,3,2,5,8,7], W=[1,3,2,5,8,7], c=7, 输出：最大价值=14，背包装的物品为：[6] [4，3] （同一个背包中物品装入顺序对结果无影响）  \n"
   ]
  },
  {
   "cell_type": "markdown",
   "metadata": {},
   "source": [
    "idea：\n",
    "由于我们有两个背包，我们可以将问题分解为两个阶段：首先确定每个物品放入哪个背包，然后计算总价值。我们可以使用三维动态规划数组 $dp[i][j][k]$ 来表示前 $i$ 个物品放入两个背包，第一个背包的重量不超过 $j$，第二个背包的重量不超过$ k$ 时的最大价值。\n",
    "$dp[i][j][k]=max(dp[i−1][j][k]$,$dp[i−1][j−w[i]][k−v[i]]+v[i])$\r\n",
    "其中$，w[i$] 和$ v[i$] 分别是第$ i$ 个物品的重量和价值。"
   ]
  },
  {
   "cell_type": "code",
   "execution_count": 2,
   "metadata": {},
   "outputs": [
    {
     "name": "stdout",
     "output_type": "stream",
     "text": [
      "最大价值 = 14\n"
     ]
    }
   ],
   "source": [
    "# add your idea here\n",
    "def two_knapsack(W, V, c):\n",
    "    n = len(V)\n",
    "    dp = [[[0 for _ in range(c+1)] for _ in range(c+1)] for _ in range(n+1)]\n",
    "    \n",
    "    for i in range(1, n+1):\n",
    "        for j in range(c+1):\n",
    "            for k in range(c+1):\n",
    "                if j >= W[i-1]:\n",
    "                    dp[i][j][k] = max(dp[i-1][j][k], dp[i-1][j-W[i-1]][k] + V[i-1])\n",
    "                else:\n",
    "                    dp[i][j][k] = dp[i-1][j][k]\n",
    "                if k >= W[i-1]:\n",
    "                    dp[i][j][k] = max(dp[i][j][k], dp[i-1][j][k-W[i-1]] + V[i-1])\n",
    "    \n",
    "    return dp[n][c][c]\n",
    "\n",
    "# 测试\n",
    "V = [1, 3, 2, 5, 8, 7]\n",
    "W = [1, 3, 2, 5, 8, 7]\n",
    "c = 7\n",
    "print(\"最大价值 =\", two_knapsack(W, V, c))\n",
    "# your algorithm time complexity is: O(nc^2)"
   ]
  },
  {
   "cell_type": "code",
   "execution_count": 3,
   "metadata": {},
   "outputs": [
    {
     "name": "stdout",
     "output_type": "stream",
     "text": [
      "最大价值 = 7\n",
      "背包1的内容 = [5]\n",
      "背包2的内容 = [5]\n"
     ]
    }
   ],
   "source": [
    "def two_knapsack_with_items(W, V, c):\n",
    "    n = len(V)\n",
    "    dp = [[[0 for _ in range(c+1)] for _ in range(c+1)] for _ in range(n+1)]\n",
    "    choice = [[[None for _ in range(c+1)] for _ in range(c+1)] for _ in range(n+1)]\n",
    "    \n",
    "    for i in range(1, n+1):\n",
    "        for j in range(c+1):\n",
    "            for k in range(c+1):\n",
    "                if j >= W[i-1] and k >= W[i-1]:\n",
    "                    if dp[i-1][j-W[i-1]][k-W[i-1]] + V[i-1] > dp[i][j][k]:\n",
    "                        dp[i][j][k] = dp[i-1][j-W[i-1]][k-W[i-1]] + V[i-1]\n",
    "                        choice[i][j][k] = ('first', 'second')\n",
    "                elif j >= W[i-1]:\n",
    "                    if dp[i-1][j-W[i-1]][k] + V[i-1] > dp[i][j][k]:\n",
    "                        dp[i][j][k] = dp[i-1][j-W[i-1]][k] + V[i-1]\n",
    "                        choice[i][j][k] = ('first', None)\n",
    "                elif k >= W[i-1]:\n",
    "                    if dp[i-1][j][k-W[i-1]] + V[i-1] > dp[i][j][k]:\n",
    "                        dp[i][j][k] = dp[i-1][j][k-W[i-1]] + V[i-1]\n",
    "                        choice[i][j][k] = (None, 'second')\n",
    "    \n",
    "    max_value = dp[n][c][c]\n",
    "    backpack1, backpack2 = [], []\n",
    "    total_weight1, total_weight2 = 0, 0\n",
    "    i, j, k = n, c, c\n",
    "    while i > 0:\n",
    "        if choice[i][j][k] == ('first', 'second'):\n",
    "            backpack1.append(i-1)\n",
    "            backpack2.append(i-1)\n",
    "            total_weight1 += W[i-1]\n",
    "            total_weight2 += W[i-1]\n",
    "            j -= W[i-1]\n",
    "            k -= W[i-1]\n",
    "        elif choice[i][j][k] == ('first', None):\n",
    "            backpack1.append(i-1)\n",
    "            total_weight1 += W[i-1]\n",
    "            j -= W[i-1]\n",
    "        elif choice[i][j][k] == (None, 'second'):\n",
    "            backpack2.append(i-1)\n",
    "            total_weight2 += W[i-1]\n",
    "            k -= W[i-1]\n",
    "        i -= 1\n",
    "    \n",
    "    return max_value, [backpack1[::-1], backpack2[::-1]]\n",
    "\n",
    "# 测试\n",
    "V = [1, 3, 2, 5, 8, 7]\n",
    "W = [1, 3, 2, 5, 8, 7]\n",
    "c = 7\n",
    "max_value, backpacks = two_knapsack_with_items(W, V, c)\n",
    "print(\"最大价值 =\", max_value)\n",
    "print(\"背包1的内容 =\", backpacks[0])\n",
    "print(\"背包2的内容 =\", backpacks[1])"
   ]
  },
  {
   "cell_type": "markdown",
   "metadata": {},
   "source": [
    "## 问题 10 \n",
    "\n",
    "> 给定两个字符串 $x[1..n]$ 和 $y[1..m]$，我们想通过以下操作将 $x$ 变换为 $y$ :\n",
    ">\n",
    "> **插入**：在 $x$ 中插入一个字符(在任何位置)；**删除**：从 $x$ 中删除一个字符(在任何位置)； **替换**：用另一个字符替换 $x$ 中的一个字符。\n",
    ">\n",
    "> 例如: $x = abcd$, $y = bcfe$，\n",
    ">\n",
    "> - 将 $x$ 转换为 $y$ 的一种可能方法是：1. 删除 $x$ 开头的 $a$, $x$变成 $bcd$； 2. 将 $x$ 中的字符 $d$ 替换为字符 $f$。$x$ 变成 $bcf$； 3. 在 $x$ 的末尾插入字符 $e$。$x$ 变成 $bcfe$。\n",
    ">\n",
    "> - 另一种可能的方法：1. 删除 $x$ 开头的 $a$,  $x$ 变成 $bcd$； 2. 在 $x$ 中字符 $d$ 之前插入字符 $f$。$x$ 变成 $bcfd$。3. 将 $x$ 中的字符 $d$ 替换为字符 $e$。$x$ 变成 $bcfe$。\n",
    "\n",
    "设计一个时间复杂度为 $O(mn)$ 的算法，返回将 $x$ 转换为 $y$ 所需的最少操作次数。分析算法设计思路，并基于python编程实现。\n"
   ]
  },
  {
   "cell_type": "markdown",
   "metadata": {},
   "source": [
    "idea：\n",
    "这个问题可以通过动态规划来解决。我们定义一个二维数组 $dp$，其中 $dp[i][j]$ 表示将字符串 $x[1...i]$ 转换为字符串 $y[1...j]$ 所需的最少操作次数。我们可以通过比较 $x[i]$ 和 $y[j]$ 的字符来更新 $dp$ 数组。\n",
    "如果 $x[i]$ ==$ y[j]$，则 $dp[i][j] = dp[i-1][j-1]$，因为不需要额外的操作。\n",
    "如果 $x[i] != y[j]$，则 $dp[i][j] = min(dp[i-1][j]$, $dp[i][j-1], dp[i-1][j-1] + 1)$，分别对应删除 $x[i]$、插入 $y[j]$ 或替换 $x[i]$ 为$ y[j]$"
   ]
  },
  {
   "cell_type": "code",
   "execution_count": 1,
   "metadata": {},
   "outputs": [
    {
     "name": "stdout",
     "output_type": "stream",
     "text": [
      "最少操作次数: 3\n"
     ]
    }
   ],
   "source": [
    "# add your idea here\n",
    "def min_edit_distance(x, y):\n",
    "    m, n = len(x), len(y)\n",
    "    dp = [[0] * (n + 1) for _ in range(m + 1)]\n",
    "\n",
    "    # 初始化\n",
    "    for i in range(m + 1):\n",
    "        dp[i][0] = i\n",
    "    for j in range(n + 1):\n",
    "        dp[0][j] = j\n",
    "\n",
    "    # 填充 dp 数组\n",
    "    for i in range(1, m + 1):\n",
    "        for j in range(1, n + 1):\n",
    "            if x[i - 1] == y[j - 1]:\n",
    "                dp[i][j] = dp[i - 1][j - 1]\n",
    "            else:\n",
    "                dp[i][j] = min(dp[i - 1][j], dp[i][j - 1], dp[i - 1][j - 1]) + 1\n",
    "\n",
    "    return dp[m][n]\n",
    "\n",
    "# 测试\n",
    "x = \"abcd\"\n",
    "y = \"bcfe\"\n",
    "print(\"最少操作次数:\", min_edit_distance(x, y))\n",
    "# your algorithm time complexity is: O(mn)"
   ]
  },
  {
   "cell_type": "markdown",
   "metadata": {},
   "source": [
    "时间复杂度为 $O(mn)$，其中 $m$ 和 $n$ 分别是字符串 $x$ 和 $y$ 的长度。这是因为我们需要填充一个 $m×n$ 的二维数组。"
   ]
  }
 ],
 "metadata": {
  "kernelspec": {
   "display_name": "Python 3 (ipykernel)",
   "language": "python",
   "name": "python3"
  },
  "language_info": {
   "codemirror_mode": {
    "name": "ipython",
    "version": 3
   },
   "file_extension": ".py",
   "mimetype": "text/x-python",
   "name": "python",
   "nbconvert_exporter": "python",
   "pygments_lexer": "ipython3",
   "version": "3.12.4"
  }
 },
 "nbformat": 4,
 "nbformat_minor": 4
}
