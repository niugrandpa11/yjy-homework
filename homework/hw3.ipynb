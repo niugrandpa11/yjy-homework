{
 "cells": [
  {
   "cell_type": "markdown",
   "metadata": {},
   "source": [
    "## algorithm design and anlysis-2025 spring  homework 3\n",
    "**Deadline**：2025.5.14\n",
    "\n",
    "**name**:\n",
    "\n",
    "\n",
    "note：\n",
    "---\n",
    "1. 带有\\*的题目，申请免上课的同学，必须完成，其他同学选作；\n",
    "2. 请独立完成，如求助了他人或者大模型，请著明，并且不可省略算法分析部分；\n",
    "4. 如若作答有雷同，全部取消成绩；\n",
    "3. 需要书面作答的题目，可以通过引用图片的形式添加，但是注意上传项目时包含所引用的图片的源文件；\n",
    "4. $log_n$ 默认表示$log_2{n}$;"
   ]
  },
  {
   "cell_type": "markdown",
   "metadata": {},
   "source": [
    "## 问题 1  \n",
    "\n",
    "请证明基于比较的排序算法计算复杂度下界为$\\Omega(nlogn)$"
   ]
  },
  {
   "cell_type": "markdown",
   "metadata": {},
   "source": [
    "<img src=\"./fig/hw3q1.jpg\" width=\"80%\">"
   ]
  },
  {
   "cell_type": "markdown",
   "metadata": {},
   "source": [
    "## 问题 2 \n",
    "\n",
    "构建二叉搜索树\n",
    "\n",
    "> 1. 给定一个数组 [48, 33, 49, 47, 42, 46, 32], 构建一个二叉搜索树存储这些数据，请**绘制**所构建的**二叉搜索树**（标明结点的值）。\n",
    "> 2. 从第1问的二叉搜索树中删除33，请**绘制**删除33后的**二叉搜索树**（标明结点的值）\n",
    "\n",
    "- 推荐使用graphviz包绘制树的结构"
   ]
  },
  {
   "cell_type": "markdown",
   "metadata": {},
   "source": [
    "<img src=\"./fig/hw3q 2-1.png\" width=\"40%\"><img src=\"./fig/hw3q 2-2.png\" width=\"40%\">\n"
   ]
  },
  {
   "cell_type": "markdown",
   "metadata": {},
   "source": [
    "## 问题 3 \n",
    "\n",
    "> 下面是九门课程的开始和结束时间:\n",
    ">\n",
    "> [(9:00,12:30), (11:00,14:00), (13:00, 14:30), (9:00,10:30),(13:00, 14:30),(14:00,16:30), (15:00,16:30), (15:00,16:30), (9:00,10:30)]\n",
    ">\n",
    "> 请使用贪婪算法为这九门课分配教室，要求在同一天内安排这些课，并且每个教室同一时间只能安排一门课。\n",
    "\n",
    "**请问最少需要几间教室，罗列出每个教室安排的课程**"
   ]
  },
  {
   "cell_type": "markdown",
   "metadata": {},
   "source": [
    "idea："
   ]
  },
  {
   "cell_type": "code",
   "execution_count": 9,
   "metadata": {
    "vscode": {
     "languageId": "plaintext"
    }
   },
   "outputs": [
    {
     "name": "stdout",
     "output_type": "stream",
     "text": [
      "教室 1:\n",
      "  09:00 - 10:30\n",
      "  11:00 - 14:00\n",
      "  14:00 - 16:30\n",
      "教室 2:\n",
      "  09:00 - 10:30\n",
      "  13:00 - 14:30\n",
      "  15:00 - 16:30\n",
      "教室 3:\n",
      "  09:00 - 12:30\n",
      "  13:00 - 14:30\n",
      "  15:00 - 16:30\n"
     ]
    }
   ],
   "source": [
    "import heapq\n",
    "\n",
    "def time_to_minutes(t):\n",
    "    hours, minutes = map(int, t.split(':'))\n",
    "    return hours * 60 + minutes\n",
    "\n",
    "def allocate_classrooms_with_details(courses):\n",
    "    # 将课程时间转换为分钟并按结束时间排序\n",
    "    sorted_courses = sorted(\n",
    "        [(time_to_minutes(start), time_to_minutes(end)) for start, end in courses],\n",
    "        key=lambda x: (x[1], x[0])  # 按结束时间排序，结束时间相同则按开始时间排序\n",
    "    )\n",
    "    \n",
    "    # 最小堆跟踪教室的结束时间和教室编号，classrooms存储每个教室的课程列表\n",
    "    heap = []\n",
    "    classrooms = []\n",
    "    classroom_id = 0\n",
    "    \n",
    "    for start, end in sorted_courses:\n",
    "        if heap and heap[0][0] <= start:\n",
    "            # 复用教室：弹出最早释放的教室，添加新课程\n",
    "            prev_end, c_id = heapq.heappop(heap)\n",
    "            classrooms[c_id].append((start, end))\n",
    "            heapq.heappush(heap, (end, c_id))\n",
    "        else:\n",
    "            # 创建新教室\n",
    "            classrooms.append([(start, end)])\n",
    "            heapq.heappush(heap, (end, classroom_id))\n",
    "            classroom_id += 1\n",
    "    \n",
    "    return classrooms\n",
    "\n",
    "# 将分钟数转换为时间字符串\n",
    "def minutes_to_time(m):\n",
    "    hours = m // 60\n",
    "    minutes = m % 60\n",
    "    return f\"{hours:02}:{minutes:02}\"\n",
    "\n",
    "# 输入课程时间\n",
    "input_courses = [\n",
    "    (\"9:00\", \"12:30\"), (\"11:00\", \"14:00\"), (\"13:00\", \"14:30\"),\n",
    "    (\"9:00\", \"10:30\"), (\"13:00\", \"14:30\"), (\"14:00\", \"16:30\"),\n",
    "    (\"15:00\", \"16:30\"), (\"15:00\", \"16:30\"), (\"9:00\", \"10:30\")\n",
    "]\n",
    "\n",
    "# 分配教室并获取每个教室的课程列表\n",
    "classrooms = allocate_classrooms_with_details(input_courses)\n",
    "\n",
    "# 输出每个教室的课程安排\n",
    "for i, courses in enumerate(classrooms, 1):\n",
    "    print(f\"教室 {i}:\")\n",
    "    for start, end in courses:\n",
    "        start_str = minutes_to_time(start)\n",
    "        end_str = minutes_to_time(end)\n",
    "        print(f\"  {start_str} - {end_str}\")"
   ]
  },
  {
   "cell_type": "markdown",
   "metadata": {},
   "source": [
    "## 问题 4 \n",
    "\n",
    "> 爬楼梯问题：假设爬楼梯时你每次只能爬一阶或者爬两阶，问爬上n阶的楼梯，你一共有多少种方法\n",
    "\n",
    "请设计算法完成该问题，分析算法设计思路，计算时间复杂度，并基于python编程实现"
   ]
  },
  {
   "cell_type": "markdown",
   "metadata": {},
   "source": [
    "<img src=\"./fig/hw3q4.jpg\" width=\"70%\">"
   ]
  },
  {
   "cell_type": "code",
   "execution_count": 6,
   "metadata": {},
   "outputs": [
    {
     "name": "stdout",
     "output_type": "stream",
     "text": [
      "2\n",
      "3\n",
      "5\n",
      "89\n"
     ]
    }
   ],
   "source": [
    "# add your code here\n",
    "# your algorithm time complexity is: \n",
    "def climb_stairs(n):\n",
    "    if n <= 0:\n",
    "        return 0\n",
    "    if n == 1:\n",
    "        return 1\n",
    "    \n",
    "    # Initialize first two steps\n",
    "    prev2, prev1 = 1, 1  # dp[0] = 1, dp[1] = 1\n",
    "    \n",
    "    # Iterate from step 2 to n\n",
    "    for i in range(2, n + 1):\n",
    "        current = prev1 + prev2\n",
    "        prev2 = prev1\n",
    "        prev1 = current\n",
    "    \n",
    "    return prev1\n",
    "\n",
    "# Test cases\n",
    "print(climb_stairs(2))  # Output: 2\n",
    "print(climb_stairs(3))  # Output: 3\n",
    "print(climb_stairs(4))  # Output: 5\n",
    "print(climb_stairs(10))"
   ]
  },
  {
   "cell_type": "markdown",
   "metadata": {},
   "source": [
    "## 问题 5 \n",
    "\n",
    "> 0-1背包问题：现在有4块大理石，每个大理石对应的重量和价值使用一个元组表示, 即（重量，价值），4块大理石的重量和价值为：[(5,10), (4,40), (6,30), (3, 50)], 假设你有一辆最大承重为9的小推车，请问使用这个小推车装大理石的最大价值为多少\n",
    "\n",
    "请设计一个算法解决该问题，分析算法设计思路，计算时间复杂度，并基于python编程实现"
   ]
  },
  {
   "cell_type": "markdown",
   "metadata": {},
   "source": [
    "<img src=\"./fig/hw3q5.jpg\" width=\"70%\">"
   ]
  },
  {
   "cell_type": "code",
   "execution_count": 10,
   "metadata": {},
   "outputs": [
    {
     "name": "stdout",
     "output_type": "stream",
     "text": [
      "Maximum value: 90\n"
     ]
    }
   ],
   "source": [
    "# add your code here\n",
    "# your algorithm time complexity is:\n",
    "def knapsack_01(items, W):\n",
    "    n = len(items)\n",
    "    # dp[w] represents the maximum value for weight limit w\n",
    "    dp = [0] * (W + 1)\n",
    "    \n",
    "    # Iterate over each item\n",
    "    for i in range(n):\n",
    "        w, v = items[i]\n",
    "        # Update dp array in reverse to avoid overwriting\n",
    "        for j in range(W, w - 1, -1):\n",
    "            dp[j] = max(dp[j], dp[j - w] + v)\n",
    "    \n",
    "    return dp[W]\n",
    "\n",
    "# Input data\n",
    "items = [(5, 10), (4, 40), (6, 30), (3, 50)]  # (weight, value)\n",
    "W = 9  # Maximum weight capacity\n",
    "\n",
    "# Compute maximum value\n",
    "max_value = knapsack_01(items, W)\n",
    "print(f\"Maximum value: {max_value}\")  # Output: 90"
   ]
  },
  {
   "cell_type": "markdown",
   "metadata": {},
   "source": [
    "## 问题 6 \n",
    "给定 `n` 个非负整数表示每个宽度为 `1` 的柱子的高度图，计算按此排列的柱子，下雨之后能接多少雨水。\n",
    "\n",
    "\n",
    "\n",
    "<div style=\"text-align:center;width:800px;\"> <img alt=\"\" src=\"./fig/hw3q6.png\"> </div>\n",
    "\n",
    "请分析算法设计思路，计算时间复杂度，并基于python编程实现"
   ]
  },
  {
   "cell_type": "markdown",
   "metadata": {},
   "source": [
    "<img src=\"./fig/he3q6.jpg\" width=\"70%\">"
   ]
  },
  {
   "cell_type": "code",
   "execution_count": 13,
   "metadata": {},
   "outputs": [
    {
     "name": "stdout",
     "output_type": "stream",
     "text": [
      "6\n",
      "9\n"
     ]
    }
   ],
   "source": [
    "def trap(height):\n",
    "    stack = []\n",
    "    water = 0\n",
    "    for i, h in enumerate(height):\n",
    "        while stack and h > height[stack[-1]]:\n",
    "            top = stack.pop()\n",
    "            if not stack:\n",
    "                break\n",
    "            distance = i - stack[-1] - 1\n",
    "            bounded_height = min(height[stack[-1]], h) - height[top]\n",
    "            water += distance * bounded_height\n",
    "        stack.append(i)\n",
    "    return water\n",
    "\n",
    "# 示例 1\n",
    "height1 = [0,1,0,2,1,0,1,3,2,1,2,1]\n",
    "print(trap(height1))  # 输出：6\n",
    "\n",
    "# 示例 2\n",
    "height2 = [4,2,0,3,2,5]\n",
    "print(trap(height2))  # 输出：9"
   ]
  },
  {
   "cell_type": "markdown",
   "metadata": {},
   "source": [
    "## 问题 7 \n",
    "\n",
    "**股票投资组合优化**： 假设你是一位投资者，想要在不同的股票中分配你的资金，以最大化你的投资回报。每只股票都有不同的预期收益率和风险。你的目标是选择一些股票，使得总投资金额不超过你的预算，并且预期收益最大化。\n",
    "\n",
    "在这个情况下，你可以将每只股票视为一个“物品”，其重量为投资金额，价值为预期收益率。然后，你可以使用分级背包问题的方法来选择部分股票，以便在预算内获得最大的预期收益。\n",
    "\n",
    "以下是一个简化的例子：\n",
    "\n",
    "假设你有以下三只股票可供选择：\n",
    "\n",
    "1. 股票 A：投资金额 5000 美元，预期收益率 10%\n",
    "2. 股票 B：投资金额 3000 美元，预期收益率 8%\n",
    "3. 股票 C：投资金额 2000 美元，预期收益率 12%\n",
    "\n",
    "请设计算法找到最优投资方案，分析算法设计思路，计算时间复杂度，并基于python编程实现"
   ]
  },
  {
   "cell_type": "markdown",
   "metadata": {},
   "source": [
    "<img src=\"./fig/hw317.jpg\" width=\"70%\">"
   ]
  },
  {
   "cell_type": "code",
   "execution_count": 18,
   "metadata": {},
   "outputs": [
    {
     "name": "stdout",
     "output_type": "stream",
     "text": [
      "最大预期收益: 980 美元\n",
      "投资方案:\n",
      "股票 C: 投资 2000 美元\n",
      "股票 B: 投资 3000 美元\n",
      "股票 A: 投资 5000 美元\n"
     ]
    }
   ],
   "source": [
    "def max_investment_return_with_plan(stocks, budget):\n",
    "    n = len(stocks)\n",
    "    # 初始化动态规划表和选择表\n",
    "    dp = [[0] * (budget + 1) for _ in range(n + 1)]\n",
    "    choice = [[False] * (budget + 1) for _ in range(n + 1)]  # 记录是否选择了该股票\n",
    "\n",
    "    for i in range(1, n + 1):\n",
    "        cost, value = stocks[i - 1]\n",
    "        for w in range(budget + 1):\n",
    "            if cost > w:\n",
    "                dp[i][w] = dp[i - 1][w]\n",
    "                choice[i][w] = False\n",
    "            else:\n",
    "                if dp[i - 1][w] >= dp[i - 1][w - cost] + value:\n",
    "                    dp[i][w] = dp[i - 1][w]\n",
    "                    choice[i][w] = False\n",
    "                else:\n",
    "                    dp[i][w] = dp[i - 1][w - cost] + value\n",
    "                    choice[i][w] = True\n",
    "\n",
    "    # 路径回溯，找到选择的股票\n",
    "    selected = []\n",
    "    w = budget\n",
    "    for i in range(n, 0, -1):\n",
    "        if choice[i][w]:\n",
    "            selected.append((i - 1, stocks[i - 1][0]))  # 记录股票索引和投资金额\n",
    "            w -= stocks[i - 1][0]\n",
    "\n",
    "    # 计算总收益\n",
    "    total_return = dp[n][budget]\n",
    "\n",
    "    # 输出投资方案\n",
    "    plan = []\n",
    "    for index, (stock_index, amount) in enumerate(selected):\n",
    "        plan.append(f\"股票 {chr(ord('A') + stock_index)}: 投资 {amount} 美元\")\n",
    "\n",
    "    return total_return, plan\n",
    "\n",
    "# 示例数据\n",
    "stocks = [\n",
    "    (5000, 500),  # 股票 A: 5000 美元，收益 500 美元\n",
    "    (3000, 240),  # 股票 B: 3000 美元，收益 240 美元\n",
    "    (2000, 240)   # 股票 C: 2000 美元，收益 240 美元\n",
    "]\n",
    "budget = 10000  # 预算 10000 美元\n",
    "\n",
    "total_return, plan = max_investment_return_with_plan(stocks, budget)\n",
    "\n",
    "print(f\"最大预期收益: {total_return} 美元\")\n",
    "print(\"投资方案:\")\n",
    "for item in plan:\n",
    "    print(item)"
   ]
  },
  {
   "cell_type": "markdown",
   "metadata": {},
   "source": [
    "## 问题 8\n",
    "\n",
    "给你二叉搜索树的根节点 root ，该树中的恰好两个节点的值被错误地交换。请在不改变其结构的情况下，恢复这棵树 。设计算法解决该问题，分析算法设计思路，计算时间复杂度，并基于python编程实现\n",
    "\n",
    "e.g.:\n",
    "---\n",
    "1.\n",
    "\n",
    "<div style=\"text-align:center;width:200px;\"> <img alt=\"\" src=\"./fig/hw3q9-1.jpg\"> </div>\n",
    "输入：root = [1,3,null,null,2]， 输出为：[3,1,null,null,2]， \n",
    "\n",
    "解释：3 不能是 1 的左孩子，因为 3 > 1 。交换 1 和 3 使二叉搜索树有效。\n",
    "\n",
    "2.\n",
    "\n",
    " <div style=\"text-align:center;width:200px;\"> <img alt=\"\" src=\"./fig/hw3q9-1.jpg\"> </div>\n",
    "输入： root=[3,1,4,null,null,2]， 输出为：[2,1,4,null,null,3]\n",
    "\n",
    "解释：2 不能在 3 的右子树中，因为 2 < 3 。交换 2 和 3 使二叉搜索树有效。"
   ]
  },
  {
   "cell_type": "markdown",
   "metadata": {},
   "source": [
    "<img src=\"./fig/hw3q8.jpg\" width=\"70%\">"
   ]
  },
  {
   "cell_type": "code",
   "execution_count": 25,
   "metadata": {},
   "outputs": [
    {
     "name": "stdout",
     "output_type": "stream",
     "text": [
      "Example 1 result: 3\n",
      "Example 2 result: 1\n"
     ]
    }
   ],
   "source": [
    "class TreeNode:\n",
    "    def __init__(self, val=0, left=None, right=None):\n",
    "        self.val = val\n",
    "        self.left = left\n",
    "        self.right = right\n",
    "\n",
    "def isBST(root, min_val, max_val):\n",
    "    if not root:\n",
    "        return True, 0, 0  # is_bst, node_count, height\n",
    "    if root.val <= min_val or root.val >= max_val:\n",
    "        return False, 0, 0\n",
    "    left_bst, left_count, left_height = isBST(root.left, min_val, root.val)\n",
    "    right_bst, right_count, right_height = isBST(root.right, root.val, max_val)\n",
    "    if not left_bst or not right_bst:\n",
    "        return False, 0, 0\n",
    "    node_count = left_count + right_count + 1\n",
    "    height = max(left_height, right_height) + 1\n",
    "    return node_count <= 3, node_count, height\n",
    "\n",
    "def convert_to_bst(root):\n",
    "    if not root:\n",
    "        return None\n",
    "    _, _, _ = isBST(root, float('-inf'), float('inf'))\n",
    "    # For simplicity, assume we pick the first valid BST with node_count <= 3\n",
    "    def find_min_bst(node):\n",
    "        if not node:\n",
    "            return None\n",
    "        is_bst, count, height = isBST(node, float('-inf'), float('inf'))\n",
    "        if is_bst and count <= 3:\n",
    "            return node\n",
    "        left = find_min_bst(node.left)\n",
    "        right = find_min_bst(node.right)\n",
    "        return left if left else right\n",
    "    \n",
    "    new_root = find_min_bst(root)\n",
    "    return new_root\n",
    "\n",
    "# Example 1\n",
    "root1 = TreeNode(1)\n",
    "root1.left = TreeNode(3)\n",
    "root1.right = TreeNode(2)\n",
    "new_root1 = convert_to_bst(root1)\n",
    "print(\"Example 1 result:\", new_root1.val if new_root1 else None)  # Should point to 1\n",
    "\n",
    "# Example 2\n",
    "root2 = TreeNode(3)\n",
    "root2.left = TreeNode(1)\n",
    "root2.right = TreeNode(4)\n",
    "root2.right.right = TreeNode(2)\n",
    "new_root2 = convert_to_bst(root2)\n",
    "print(\"Example 2 result:\", new_root2.val if new_root2 else None)  # Should point to 2"
   ]
  },
  {
   "cell_type": "markdown",
   "metadata": {},
   "source": [
    "## 问题 9  \n",
    "\n",
    "给你一个二叉树的根节点 root ，树中每个节点都存放有一个 0 到 9 之间的数字。每条从根节点到叶节点的路径都代表一个数字：\n",
    "\n",
    "> 例如，从根节点到叶节点的路径 1 -> 2 -> 3 表示数字 123 。\n",
    "\n",
    "设计一个算法计算从根节点到叶节点生成的所有数字之和 ，分析算法设计思路，计算时间复杂度，并基于python编程实现\n",
    "\n",
    "叶节点:是指没有子节点的节点。\n",
    "\n",
    "e.g.:\n",
    "---\n",
    "1.\n",
    "\n",
    " <div style=\"text-align:center;width:200px;\"> <img alt=\"figure\" src=\"./fig/hw3q10-1.jpg\"> </div>\n",
    "\n",
    " 输入：root = [1,2,3], 输出：25\n",
    "\n",
    "解释：从根到叶子节点路径 1->2 代表数字 12，1->3 代表数字 13，因此和为 12 + 13 = 25 。\n",
    "\n",
    "2.\n",
    "\n",
    " <div style=\"text-align:center;width:200px;\"> <img alt=\"figure\" src=\"./fig/hw3q10-2.jpg\"> </div>\n",
    "\n",
    " 输入：root = [4,9,0,5,1], 输出：1026\n",
    "\n",
    "解释：从根到叶子节点路径 4->9->5 代表数字 495，4->9->1 代表数字 491，4->0 代表数字 40。因此和为 495 + 491 + 40 = 1026 。"
   ]
  },
  {
   "cell_type": "markdown",
   "metadata": {},
   "source": [
    "idea：\n",
    "采用DFS算法\n",
    "当前节点和路径累计数字。累计数即代表从根节点到当前节点的路径数字。\n",
    "当前节点为空，返回0；当前节点为叶子节点，返回累计数字。\n",
    "更新累计数字，递归遍历左右子节点，累加返回值。\n",
    "因为n为树中节点数，每个节点遍历一次。则时间复杂度：$O(n)$"
   ]
  },
  {
   "cell_type": "code",
   "execution_count": 22,
   "metadata": {},
   "outputs": [
    {
     "name": "stdout",
     "output_type": "stream",
     "text": [
      "25\n",
      "1026\n"
     ]
    }
   ],
   "source": [
    "# add your code here\n",
    "# your algorithm time complexity is:\n",
    "class TreeNode:\n",
    "    def __init__(self, val=0, left=None, right=None):\n",
    "        self.val = val\n",
    "        self.left = left\n",
    "        self.right = right\n",
    "\n",
    "def sumNumbers(root):\n",
    "    def dfs(node, current_sum):\n",
    "        if not node:\n",
    "            return 0\n",
    "        current_sum = current_sum * 10 + node.val\n",
    "        if not node.left and not node.right:\n",
    "            return current_sum\n",
    "        left_sum = dfs(node.left, current_sum)\n",
    "        right_sum = dfs(node.right, current_sum)\n",
    "        return left_sum + right_sum\n",
    "\n",
    "    return dfs(root, 0)\n",
    "\n",
    "# 示例 1\n",
    "root1 = TreeNode(1)\n",
    "root1.left = TreeNode(2)\n",
    "root1.right = TreeNode(3)\n",
    "print(sumNumbers(root1))  # 输出：25\n",
    "\n",
    "# 示例 2\n",
    "root2 = TreeNode(4)\n",
    "root2.left = TreeNode(9)\n",
    "root2.right = TreeNode(0)\n",
    "root2.left.left = TreeNode(5)\n",
    "root2.left.right = TreeNode(1)\n",
    "print(sumNumbers(root2))  # 输出：1026"
   ]
  },
  {
   "cell_type": "markdown",
   "metadata": {},
   "source": [
    "## 问题 10  \n",
    "\n",
    "给你一个二叉树的根节点 root ， 检查它是否轴对称。\n",
    "\n",
    "1. 分析算法设计思路，计算时间复杂度，并基于python编程实现\n",
    "2. \\* 设计使用递归和迭代两种方法解决这个问题，计算时间复杂度，并基于python编程实现\n",
    "\n",
    "e.g.:\n",
    "---\n",
    "1.\n",
    "\n",
    " <div style=\"text-align:center;width:200px;\"> <img alt=\"figure\" src=\"./fig/hw3q11-1.png\"> </div>\n",
    "\n",
    " 输入：root = [1,2,2,3,4,4,3]， 输出：true\n",
    "\n",
    "解释：二叉树 [1,2,2,3,4,4,3] 对称。\n",
    "\n",
    "2.\n",
    "\n",
    " <div style=\"text-align:center;width:200px;\"> <img alt=\"figure\" src=\"./fig/hw3q11-2.png\"> </div>\n",
    "\n",
    " 输入：root = [1,2,2,null,3,null,3]， 输出：false"
   ]
  },
  {
   "cell_type": "markdown",
   "metadata": {},
   "source": [
    "idea\n",
    "二叉树的对称性意味着左子树和右子树是镜像对称的。\n",
    "定义辅助函数，用于递归比较两个子树是否镜像对称。\n",
    "若两个子树为空，则对称\n",
    "若其中一个子树为空，另一个不为空，则不对称。\n",
    "若两个子树的根节点之不相等，则不对称。\n",
    "每个节点访问一次，时间复杂度为$O(n)$"
   ]
  },
  {
   "cell_type": "code",
   "execution_count": 26,
   "metadata": {},
   "outputs": [
    {
     "name": "stdout",
     "output_type": "stream",
     "text": [
      "True\n",
      "True\n"
     ]
    }
   ],
   "source": [
    "# add your code here\n",
    "# your algorithm time complexity is:\n",
    "class TreeNode:\n",
    "    def __init__(self, val=0, left=None, right=None):\n",
    "        self.val = val\n",
    "        self.left = left\n",
    "        self.right = right\n",
    "\n",
    "def isSymmetric(root):\n",
    "    if not root:\n",
    "        return True\n",
    "    return is_mirror(root.left, root.right)\n",
    "\n",
    "def is_mirror(left, right):\n",
    "    if not left and not right:\n",
    "        return True\n",
    "    if not left or not right:\n",
    "        return False\n",
    "    return (left.val == right.val and\n",
    "            is_mirror(left.left, right.right) and\n",
    "            is_mirror(left.right, right.left))\n",
    "\n",
    "# 示例 1\n",
    "root1 = TreeNode(1)\n",
    "root1.left = TreeNode(2)\n",
    "root1.right = TreeNode(2)\n",
    "root1.left.left = TreeNode(3)\n",
    "root1.left.right = TreeNode(4)\n",
    "root1.right.left = TreeNode(4)\n",
    "root1.right.right = TreeNode(3)\n",
    "print(isSymmetric(root1))  # 输出：True\n",
    "\n",
    "# 示例 2\n",
    "root2 = TreeNode(1)\n",
    "root2.left = TreeNode(2)\n",
    "root2.right = TreeNode(2)\n",
    "root2.left.left = TreeNode(3)\n",
    "root2.right.right = TreeNode(3)\n",
    "print(isSymmetric(root2))  # 输出：False"
   ]
  },
  {
   "cell_type": "markdown",
   "metadata": {},
   "source": [
    "## 问题 11  \n",
    "\n",
    "给你一个由 '1'（陆地）和 '0'（水）组成的的二维网格，请你计算网格中岛屿的数量。岛屿总是被水包围，并且每座岛屿只能由水平方向和/或竖直方向上相邻的陆地连接形成。\n",
    "\n",
    "此外，你可以假设该网格的四条边均被水包围。\n",
    "\n",
    "分析算法设计思路，计算时间复杂度，并基于python编程实现\n",
    "\n",
    "e.g.:\n",
    "---\n",
    "1.\n",
    "输入：grid = [\n",
    "\n",
    "    [\"1\",\"1\",\"1\",\"1\",\"0\"],\n",
    "\n",
    "    [\"1\",\"1\",\"0\",\"1\",\"0\"], \n",
    "\n",
    "    [\"1\",\"1\",\"0\",\"0\",\"0\"], \n",
    "\n",
    "    [\"0\",\"0\",\"0\",\"0\",\"0\"]  \n",
    "\n",
    "]\n",
    "\n",
    "输出：1\n",
    "\n",
    "2.\n",
    "输入：grid = [\n",
    "\n",
    "    [\"1\",\"1\",\"0\",\"0\",\"0\"],\n",
    "\n",
    "    [\"1\",\"1\",\"0\",\"0\",\"0\"],\n",
    "\n",
    "    [\"0\",\"0\",\"1\",\"0\",\"0\"],\n",
    "\n",
    "    [\"0\",\"0\",\"0\",\"1\",\"1\"]\n",
    "\n",
    "]\n",
    "\n",
    "输出：3"
   ]
  },
  {
   "cell_type": "markdown",
   "metadata": {},
   "source": [
    "idea:\n",
    "岛屿是相邻陆地组成的连通区域。需要遍历网络，标记已访问的陆地，避免重复计算。\n",
    "使用DFS算法遍历网络的每个单元，遍历陆地时，计数加一，标记方式是将陆地设置为水，避免重复访问。\n",
    "每个单元格访问一次，则复杂度为$O(rows*cols)$"
   ]
  },
  {
   "cell_type": "code",
   "execution_count": 27,
   "metadata": {},
   "outputs": [
    {
     "name": "stdout",
     "output_type": "stream",
     "text": [
      "1\n",
      "3\n"
     ]
    }
   ],
   "source": [
    "# add your code here\n",
    "# your algorithm time complexity is:\n",
    "def numIslands(grid):\n",
    "    if not grid:\n",
    "        return 0\n",
    "    \n",
    "    rows, cols = len(grid), len(grid[0])\n",
    "    count = 0\n",
    "    \n",
    "    def dfs(r, c):\n",
    "        if r < 0 or r >= rows or c < 0 or c >= cols or grid[r][c] == '0':\n",
    "            return\n",
    "        grid[r][c] = '0'  # 标记为访问过\n",
    "        dfs(r + 1, c)\n",
    "        dfs(r - 1, c)\n",
    "        dfs(r, c + 1)\n",
    "        dfs(r, c - 1)\n",
    "    \n",
    "    for r in range(rows):\n",
    "        for c in range(cols):\n",
    "            if grid[r][c] == '1':\n",
    "                count += 1\n",
    "                dfs(r, c)\n",
    "    \n",
    "    return count\n",
    "\n",
    "# 示例 1\n",
    "grid1 = [\n",
    "    [\"1\",\"1\",\"1\",\"1\",\"0\"],\n",
    "    [\"1\",\"1\",\"0\",\"1\",\"0\"],\n",
    "    [\"1\",\"1\",\"0\",\"0\",\"0\"],\n",
    "    [\"0\",\"0\",\"0\",\"0\",\"0\"]\n",
    "]\n",
    "print(numIslands(grid1))  # 输出：1\n",
    "\n",
    "# 示例 2\n",
    "grid2 = [\n",
    "    [\"1\",\"1\",\"0\",\"0\",\"0\"],\n",
    "    [\"1\",\"1\",\"0\",\"0\",\"0\"],\n",
    "    [\"0\",\"0\",\"1\",\"0\",\"0\"],\n",
    "    [\"0\",\"0\",\"0\",\"1\",\"1\"]\n",
    "]\n",
    "print(numIslands(grid2))  # 输出：3"
   ]
  }
 ],
 "metadata": {
  "kernelspec": {
   "display_name": "Python 3 (ipykernel)",
   "language": "python",
   "name": "python3"
  },
  "language_info": {
   "codemirror_mode": {
    "name": "ipython",
    "version": 3
   },
   "file_extension": ".py",
   "mimetype": "text/x-python",
   "name": "python",
   "nbconvert_exporter": "python",
   "pygments_lexer": "ipython3",
   "version": "3.12.4"
  }
 },
 "nbformat": 4,
 "nbformat_minor": 4
}
