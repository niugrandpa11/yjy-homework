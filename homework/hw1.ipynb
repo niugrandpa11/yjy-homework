{
 "cells": [
  {
   "cell_type": "markdown",
   "metadata": {},
   "source": [
    "## algorithm design and anlysis-2025 spring  homework 1 \n",
    "**Deadline**：2025.5.14\n",
    "\n",
    "**name**:\n",
    "\n",
    "\n",
    "note：\n",
    "---\n",
    "1. 带有\\*的题目，申请免上课的同学，必须完成，其他同学选作；\n",
    "2. 请独立完成，如求助了他人或者大模型，请著明，并且不可省略算法分析部分；\n",
    "4. 如若作答有雷同，全部取消成绩；\n",
    "3. 需要书面作答的题目，可以通过引用图片的形式添加，但是注意上传项目时包含所引用的图片的源文件；\n",
    "4. $log_n$ 默认表示$log_2{n}$;"
   ]
  },
  {
   "cell_type": "markdown",
   "metadata": {},
   "source": [
    "## 问题 1\n",
    "\n",
    "对于下面的每一对表达式(A, B), A是否能表示为B的 $\\Theta, \\Omega ,O$形式. 请注意, 这些关系中的零个、一个或多个可能成立。列出所有正确的。经常发生一些学生会,把指示写错, 所以请把关系写完整, 例如: $A = O(B),  A =\\Theta(B)$, 或$A = \\Omega(B)$。\n",
    "\n",
    "1. $A=n^2-100n, B=n^2$\n",
    "2. $A=logn, B=log_{1.2}n$\n",
    "3. $A=3^{2n}, B=2^{4n}$\n",
    "4. $A=2^{logn}, B=n$\n",
    "5. $A=\\log{\\log}{n},B=10^{10^{100}}$"
   ]
  },
  {
   "cell_type": "markdown",
   "metadata": {},
   "source": [
    "can refer a handwritten picture, pleas upload the picture in /fig/xxx.png\n",
    "answer:\n",
    "\n",
    "<img src=\"./fig/hw1q1.jpg\" width=\"40%\">\n"
   ]
  },
  {
   "cell_type": "markdown",
   "metadata": {},
   "source": [
    "## 问题 2：\n",
    "\n",
    "假设有函数 $f$ 和 $g$ 使得 $f(n)$ = $O(g(n))$ 对于下面的每一个陈述, 请判断对错, 如果正确请给出证明, 否则请给出一个反例。\n",
    "\n",
    "1. $\\log{f(n)}$ = $O(\\log(1+g(n)))$\n",
    "2. $3^{f(n)}=O(3^{g(n)})$\n",
    "3. $(f(n))^2=O((g(n))^2)$ "
   ]
  },
  {
   "cell_type": "markdown",
   "metadata": {},
   "source": [
    "you can refer a handwritten picture, pleas upload the picture in /fig/xxx.png\n",
    "answer:\n",
    "\n",
    "\n",
    "<img src=\"./fig/hw1q2.jpg\" width=\"40%\">"
   ]
  },
  {
   "cell_type": "markdown",
   "metadata": {},
   "source": [
    "## 问题 3\n",
    "\n",
    "根据下列递归公式, 计算下列 $T(n)$ 对应的的渐近上界。要求所求的边界尽可能的紧（tight）, 请写明步骤。\n",
    "\n",
    "1. $T(1)=1; T(n)=T(n/4)+1$ for $n>1$\n",
    "2. $T(1)=1;T(n)=3T(n/3)+n^2$ for $n>1$\n",
    "3. $T(1)=1;T(n)=T(2n/3)+1$ for $n>1$\n",
    "4. $T(1)=1;T(n)=5T(n/4)+n$ for $n>1$\n",
    "5. $T(n)=1 \\ for\\ n \\le 2 ; T(n)=T(\\sqrt{n})+1 \\ for \\ n>2$"
   ]
  },
  {
   "cell_type": "markdown",
   "metadata": {},
   "source": [
    "can refer a handwritten picture, pleas upload the picture in /fig/xxx.png\n",
    "answer:\n",
    "\n",
    "<img src=\"./fig/hw1q3.jpg\" width=\"40%\">"
   ]
  },
  {
   "cell_type": "markdown",
   "metadata": {},
   "source": [
    "## 问题 4：\n",
    "\n",
    "给定一个包含n个元素的数组 `profits` , 它的第 `i` 个元素 `profits[i]` 表示一支股票第 `i` 天的**收益**（正数表示涨, 负数表示跌）。你只能选择 **某一天** 买入这只股票, 并选择在 **未来的某一个不同的日子** 卖出该股票。\n",
    "\n",
    "1. 设计一个算法来计算你所能获取的最大利润和对应买入和卖出的日期。请分析算法方案, 计算其时间复杂度, 并且使用python编程实现该算法。\n",
    "\n",
    "2. \\* 设计一个时间复杂度为 $O(n)$的算法实现该算法\n",
    "\n",
    "e.g. :\n",
    "---\n",
    "profits=[3,2,1,-7,5,2,-1,3,-1], 第5天买入, 第8天卖出, 收益最大：9\n",
    "\n"
   ]
  },
  {
   "cell_type": "markdown",
   "metadata": {},
   "source": [
    "idea:\n",
    "枚举法是一种直接且简单的方法，通过枚举所有可能的买入和卖出组合来找到最大利润。\n",
    "分治法是一种更高效的算法，通过将问题分解为更小的子问题来求解。"
   ]
  },
  {
   "cell_type": "code",
   "execution_count": 3,
   "metadata": {},
   "outputs": [
    {
     "name": "stdout",
     "output_type": "stream",
     "text": [
      "Naive: 5天买入, 8天卖出, 收益最大为9\n",
      "Divide and Conquer: 4天买入, 8天卖出, 收益最大为10\n"
     ]
    }
   ],
   "source": [
    "# add your code\n",
    "# 朴素解法：暴力枚举所有可能的买入卖出组合\n",
    "def calculate_max_profit_naive(prices):\n",
    "    length = len(prices)\n",
    "    if length < 2:\n",
    "        return -1, -1, float('-inf')  # 不够两天无法交易，返回无效值\n",
    "\n",
    "    # 计算前缀和数组\n",
    "    prefix_sum = [0] * (length + 1)\n",
    "    for i in range(1, length + 1):\n",
    "        prefix_sum[i] = prefix_sum[i - 1] + prices[i - 1]\n",
    "\n",
    "    max_profit = float('-inf')\n",
    "    best_buy_day = -1\n",
    "    best_sell_day = -1\n",
    "    for buy_day in range(1, length):  # 枚举买入日期（从第1天开始）\n",
    "        for sell_day in range(buy_day + 1, length + 1):  # 枚举卖出日期\n",
    "            current_profit = prefix_sum[sell_day] - prefix_sum[buy_day - 1]\n",
    "            if current_profit > max_profit:\n",
    "                max_profit = current_profit\n",
    "                best_buy_day = buy_day\n",
    "                best_sell_day = sell_day\n",
    "\n",
    "    return best_buy_day, best_sell_day, max_profit\n",
    "\n",
    "\n",
    "# 分治法：递归求解最大利润\n",
    "def divide_and_conquer_max_profit(prices, start, end):\n",
    "    if end - start < 2:\n",
    "        return -1, -1, float('-inf')  # 不够两天无法交易，返回无效值\n",
    "\n",
    "    mid = (start + end) // 2\n",
    "\n",
    "    # 递归计算左半部分的最大利润\n",
    "    left_buy, left_sell, left_profit = divide_and_conquer_max_profit(prices, start, mid)\n",
    "    # 递归计算右半部分的最大利润\n",
    "    right_buy, right_sell, right_profit = divide_and_conquer_max_profit(prices, mid, end)\n",
    "\n",
    "    # 计算跨越中点的最大利润\n",
    "    # 左半部分的最小前缀和（最早的买入点）\n",
    "    min_prefix_sum = float('inf')\n",
    "    current_sum = 0\n",
    "    best_buy_day = -1\n",
    "    for day in range(start, mid):\n",
    "        current_sum += prices[day]\n",
    "        if current_sum < min_prefix_sum:\n",
    "            min_prefix_sum = current_sum\n",
    "            best_buy_day = day + 1  # 转换为1-based索引\n",
    "\n",
    "    # 右半部分的最大后缀和（最晚的卖出点）\n",
    "    max_suffix_sum = float('-inf')\n",
    "    current_sum = 0\n",
    "    best_sell_day = -1\n",
    "    for day in range(mid, end):\n",
    "        current_sum += prices[day]\n",
    "        if current_sum > max_suffix_sum:\n",
    "            max_suffix_sum = current_sum\n",
    "            best_sell_day = day + 1  # 转换为1-based索引\n",
    "\n",
    "    # 跨中点利润：从best_buy_day到best_sell_day的利润\n",
    "    cross_profit = max_suffix_sum - min_prefix_sum if best_buy_day < best_sell_day else float('-inf')\n",
    "\n",
    "    # 比较三者，返回最大利润及其对应的买入卖出日期\n",
    "    if left_profit >= right_profit and left_profit >= cross_profit:\n",
    "        return left_buy, left_sell, left_profit\n",
    "    elif right_profit >= left_profit and right_profit >= cross_profit:\n",
    "        return right_buy, right_sell, right_profit\n",
    "    else:\n",
    "        return best_buy_day, best_sell_day, cross_profit\n",
    "\n",
    "\n",
    "# 包装函数：调用分治法求解最大利润\n",
    "def find_max_profit(prices):\n",
    "    length = len(prices)\n",
    "    return divide_and_conquer_max_profit(prices, 0, length)\n",
    "\n",
    "\n",
    "# 测试数据\n",
    "prices = [3, 2, 1, -7, 5, 2, -1, 3, -1]\n",
    "\n",
    "# 使用朴素解法\n",
    "buy_day_naive, sell_day_naive, max_profit_naive = calculate_max_profit_naive(prices)\n",
    "print(f\"Naive: {buy_day_naive}天买入, {sell_day_naive}天卖出, 收益最大为{max_profit_naive}\")\n",
    "\n",
    "# 使用分治法\n",
    "buy_day, sell_day, max_profit = find_max_profit(prices)\n",
    "print(f\"Divide and Conquer: {buy_day}天买入, {sell_day}天卖出, 收益最大为{max_profit}\")"
   ]
  },
  {
   "cell_type": "markdown",
   "metadata": {},
   "source": [
    "## 问题 5：\n",
    "\n",
    "观察下方的分治算法（divide-and-conquer algorithm）的伪代码, 回答下面问题\n",
    "\n",
    "```latex\n",
    "DoSomething(A,p,r)\n",
    "-----\n",
    "n := r-p+1\n",
    "if n=2 and A[p]>A[r] then\n",
    "    swap A[p] and A[r]\n",
    "else if n >= 3 then\n",
    "    m = ceil(2n/3)\n",
    "    DoSomething(A,p,p+m-1)\n",
    "    DoSomething(A,r-m+1,r)\n",
    "    DoSomething(A,p,p+m-1)  \n",
    "    \n",
    "---\n",
    "first call: DoSomething(A,1,n)\n",
    "```\n",
    "\n",
    "note：$ceil(2n/3)=\\left\\lceil {2n/3} \\right\\rceil$；$:=$ 表示赋值, 等价于 $\\to$；A是一个包含n的整数元素的数组, \n",
    "\n",
    "1. 写出该算法时间复杂度的递归公式, 并求解其对应的渐进表示\n",
    "2. 描述一下该算法的功能, 并判断是否是最高效的解决方案\n",
    "3. 使用python编程实现上述算法或其对应的更高效版本的算法\n"
   ]
  },
  {
   "cell_type": "markdown",
   "metadata": {},
   "source": [
    "答案：\n",
    "1.假设 DoSomething(A, p, r) 表示在数组 A 的子数组 A[p...r] 上执行的操作。根据给出的伪代码，我们可以写出递归公式如下：\n",
    "当 n = 0 或 n = 1 时，不需要递归调用，因此 $T(0) = T(1) = O(1)$。当 n ≥ 2 时，递归调用三次 DoSomething，每次处理大约 n/3 大小的子数组。因此，递归公式为：$T(n)=3T(⌈ n/3\n",
    "​\r\n",
    " ⌉)。渐进表示：$T(n)=O(nlogn)$\n",
    "\n",
    "2.该算法的功能是对数组 A 进行某种操作（DoSomething），通过分治法将数组分成更小的子数组进行处理。每次递归调用处理大约 n/3 大小的子数组，直到子数组的大小为 1 或 0，然后合并结果。\r\n",
    "这种方法在处理数组问题时非常常见，尤其是在需要对数组进行排序或查找特定元素时。然而，是否是最高效的解决方案取决于具体问题的需求。对于某些问题，可能存在更高效的算法（如线性时间复杂度的算法）。但对于大多数分治法可以解决的问题$，O(n log n$) 的时间复杂度已经是相当高效的。+$O(n)\n"
   ]
  },
  {
   "cell_type": "code",
   "execution_count": 9,
   "metadata": {},
   "outputs": [
    {
     "name": "stdout",
     "output_type": "stream",
     "text": [
      "Sorted array: [1, 1, 2, 3, 3, 4, 5, 5, 5, 6, 9]\n"
     ]
    }
   ],
   "source": [
    "def merge_sort(arr, left, right):\n",
    "    if left < right:\n",
    "        mid = (left + right) // 2\n",
    "        merge_sort(arr, left, mid)\n",
    "        merge_sort(arr, mid + 1, right)\n",
    "        merge(arr, left, mid, right)\n",
    "\n",
    "def merge(arr, left, mid, right):\n",
    "    n1 = mid - left + 1\n",
    "    n2 = right - mid\n",
    "    L = [0] * n1\n",
    "    R = [0] * n2\n",
    "\n",
    "    for i in range(n1):\n",
    "        L[i] = arr[left + i]\n",
    "    for j in range(n2):\n",
    "        R[j] = arr[mid + 1 + j]\n",
    "\n",
    "    i = 0\n",
    "    j = 0\n",
    "    k = left\n",
    "    while i < n1 and j < n2:\n",
    "        if L[i] <= R[j]:\n",
    "            arr[k] = L[i]\n",
    "            i += 1\n",
    "        else:\n",
    "            arr[k] = R[j]\n",
    "            j += 1\n",
    "        k += 1\n",
    "\n",
    "    while i < n1:\n",
    "        arr[k] = L[i]\n",
    "        i += 1\n",
    "        k += 1\n",
    "\n",
    "    while j < n2:\n",
    "        arr[k] = R[j]\n",
    "        j += 1\n",
    "        k += 1\n",
    "\n",
    "# 测试\n",
    "arr = [3, 1, 4, 1, 5, 9, 2, 6, 5, 3, 5]\n",
    "merge_sort(arr, 0, len(arr) - 1)\n",
    "print(\"Sorted array:\", arr)"
   ]
  },
  {
   "cell_type": "code",
   "execution_count": null,
   "metadata": {},
   "outputs": [],
   "source": [
    "# add your code here\n",
    "# your algorithm time complexity is :"
   ]
  },
  {
   "cell_type": "markdown",
   "metadata": {},
   "source": [
    "## 问题 6：\n",
    "\n",
    "给定一个大小为 `n` 的数组 `nums` , 返回其中的多数元素。多数元素是指在数组中出现次数 **大于** `⌊ n/2 ⌋` 的元素。\n",
    "\n",
    "你可以假设数组是非空的, 并且给定的数组总是存在多数元素。\n",
    "\n",
    "1. 设计一个算法找到给定数组的多数元素, 分析算法设计思路, 计算算法时间复杂度, 使用python编程实现\n",
    "2. \\* 设计时间复杂度为 O(n)、空间复杂度为 O(1) 的算法解决此问题, 分析算法设计思路, 使用python编程实现\n",
    "\n",
    "e.g.:\n",
    "---\n",
    "1. nums=[3,2,3], 返回3\n",
    "2. nums=[2,2,1,1,1,2,2], 返回2\n"
   ]
  },
  {
   "cell_type": "markdown",
   "metadata": {},
   "source": [
    "idea：\n",
    "首先统计数组中每个元素的出现频率，然后将其与数组长度的一半（向下取整）进行比较，从而确定多数元素。由于题目明确指出数组中一定存在多数元素，因此这种方法是可行的。\n",
    "我将使用哈希表。\n",
    "具体步骤如下：首先，遍历数组，利用散列表记录每个元素的出现次数；接着，再次遍历散列表，查找出现次数超过数组长度一半（向下取整）的元素。由于题目保证了多数元素的存在，因此一旦找到，即可直接返回该元素。\n",
    "从时间复杂度的角度来看，遍历数组以统计元素出现次数的操作复杂度为 $O(n)$，而遍历散列表以查找多数元素的操作复杂度也为$O(n)$。因此，整个算法的总时间复杂度为$O(n)$。"
   ]
  },
  {
   "cell_type": "code",
   "execution_count": 4,
   "metadata": {},
   "outputs": [
    {
     "name": "stdout",
     "output_type": "stream",
     "text": [
      "多数元素是: 3\n",
      "多数元素是: 2\n"
     ]
    }
   ],
   "source": [
    "# add your code here\n",
    "# your algorithm time complexity is :\n",
    "def find_majority_element(nums):\n",
    "    counts = {}\n",
    "    threshold = len(nums) // 2  # 多数元素的最小出现次数\n",
    "\n",
    "    for num in nums:\n",
    "        counts[num] = counts.get(num, 0) + 1\n",
    "        if counts[num] > threshold:\n",
    "            return num\n",
    "\n",
    "    return None  # 理论上不会执行到这里，因为题目保证存在多数元素\n",
    "\n",
    "# 测试\n",
    "nums1 = [3, 2, 3]\n",
    "print(\"多数元素是:\", find_majority_element(nums1))  # 输出: 3\n",
    "\n",
    "nums2 = [2, 2, 1, 1, 2, 2]\n",
    "print(\"多数元素是:\", find_majority_element(nums2))  # 输出: 2"
   ]
  },
  {
   "cell_type": "code",
   "execution_count": 7,
   "metadata": {},
   "outputs": [
    {
     "name": "stdout",
     "output_type": "stream",
     "text": [
      "多数元素是: 3\n",
      "多数元素是: 2\n"
     ]
    }
   ],
   "source": [
    "# algorithm time complexity：O(n), space complexity:O(1)\n",
    "# add your code here\n",
    "def find_majority_element_boyer_moore(nums):\n",
    "    if not nums:\n",
    "        return None\n",
    "\n",
    "    # 第一次遍历：找到候选多数元素\n",
    "    candidate = None\n",
    "    count = 0\n",
    "    for num in nums:\n",
    "        if count == 0:\n",
    "            candidate = num\n",
    "        count += (1 if num == candidate else -1)\n",
    "\n",
    "    # 第二次遍历：验证候选多数元素\n",
    "    count = 0\n",
    "    for num in nums:\n",
    "        if num == candidate:\n",
    "            count += 1\n",
    "\n",
    "    if count > len(nums) // 2:\n",
    "        return candidate\n",
    "    else:\n",
    "        return None  # 理论上不会执行到这里，因为题目保证存在多数元素\n",
    "\n",
    "# 测试\n",
    "nums1 = [3, 2, 3]\n",
    "print(\"多数元素是:\", find_majority_element_boyer_moore(nums1))  # 输出: 3\n",
    "\n",
    "nums2 = [2, 2, 1, 1, 2, 2]\n",
    "print(\"多数元素是:\", find_majority_element_boyer_moore(nums2))  # 输出: 2"
   ]
  },
  {
   "cell_type": "markdown",
   "metadata": {},
   "source": [
    "## 问题 7：\n",
    "\n",
    "给定一个包含不同整数元素的数组 $ A[1..n]$ ,并且满足条件：$A[1]>A[2]$ 并且 $A[n-1]<A[n]$; 规定：如果一个元素比它两边的邻居元素都小, 即：$A[x]<A[x-1], A[x]<A[x+1]$ , 称这个元素A[x]为“局部最小”。通过遍历一次数组, 我们可以很容易在 $O(n)$的时间复杂度下找到一个局部最小值, \n",
    "\n",
    "\n",
    "1. 分析该问题, 设计一个算法在$O(logn)$的时间复杂度下找到一个局部最小(返回数值), 要求：分析算法设计思路, 并且使用python编程实现\n",
    "2. \\* 设计算法找出所有局部最小值, 分析算法设计思路, 并使用python编程实现\n",
    "\n",
    "e.g.:\n",
    "---\n",
    "A=[9, 3, 7, 2, 1, 4, 5 ] 时,  局部最小元素为 3, 1\n"
   ]
  },
  {
   "cell_type": "markdown",
   "metadata": {},
   "source": [
    "idea："
   ]
  },
  {
   "cell_type": "markdown",
   "metadata": {},
   "source": [
    "算法一：\n",
    "由于数组的两端是递增和递减的，局部最小值必定在数组的中间部分。我们可以利用二分查找的思想来快速定位这个局部最小值。\n",
    "初始化两个指针 $left 和 right$，分别指向数组的起始和结束位置。\n",
    "当 $left < right$ 时，执行以下操作：\n",
    "计算中间位置 $mid = (left + right) // 2$\n",
    "如果 $mid$ 位置的元素是局部最小值（即 $A[mid]<A[mid−1]$ 且 $A[mid]<A[mid+1]$），则返回 $A[mid]$。\n",
    "如果 $mid$ 位置的元素不是局部最小值，根据其与相邻元素的关系调整 $left$ 和 $right$\n",
    "如果 $A[mid]>A[mid+1]$，则局部最小值在 $mid$ 的右侧，将 $left$ 设置为 $mid + 1$\n",
    "否则，局部最小值在 mid 的左侧，将 right 设置为 mid。时间复杂度为 $O(logn)$\n",
    "\n",
    "算法二：\n",
    "遍历数组中的每个元素。\r\n",
    "对于每个元素，检查它是否比它的相邻元素都小。\r\n",
    "如果是，将其添加到结果列表\n",
    "时间复杂度为 $O(n)$中。\n"
   ]
  },
  {
   "cell_type": "markdown",
   "metadata": {},
   "source": [
    "idea:"
   ]
  },
  {
   "cell_type": "code",
   "execution_count": 13,
   "metadata": {},
   "outputs": [
    {
     "name": "stdout",
     "output_type": "stream",
     "text": [
      "局部最小值是: 2\n",
      "所有局部最小值是: [3, 2, 1]\n"
     ]
    }
   ],
   "source": [
    "# add your code here\n",
    "def find_local_min(A):\n",
    "    left, right = 1, len(A) - 1\n",
    "    while left < right:\n",
    "        mid = (left + right) // 2\n",
    "        if (mid == 0 or A[mid] < A[mid - 1]) and (mid == len(A) - 1 or A[mid] < A[mid + 1]):\n",
    "            return A[mid]\n",
    "        elif mid > 0 and A[mid] > A[mid - 1]:\n",
    "            right = mid\n",
    "        else:\n",
    "            left = mid + 1\n",
    "    return A[left]  # 当 left == right 时，left 指向的元素是局部最小值\n",
    "\n",
    "# 测试\n",
    "A = [5, 3, 6, 2, 4, 1, 7]\n",
    "print(\"局部最小值是:\", find_local_min(A))\n",
    "\n",
    "def find_all_local_mins(A):\n",
    "    local_mins = []\n",
    "    for i in range(1, len(A) - 1):\n",
    "        if A[i] < A[i - 1] and A[i] < A[i + 1]:\n",
    "            local_mins.append(A[i])\n",
    "    return local_mins\n",
    "\n",
    "# 测试\n",
    "A = [5, 3, 6, 2, 4, 1, 7]\n",
    "print(\"所有局部最小值是:\", find_all_local_mins(A))\n"
   ]
  },
  {
   "cell_type": "markdown",
   "metadata": {},
   "source": [
    "## 问题 8：\n",
    "\n",
    "给定包含n个不同数字的一组数, 寻找一种基于比较的算法在这组数中找到k个最小的数字, 并按顺序输出它们。\n",
    "\n",
    "1. 将n个数先进行排序, 然后按顺序输出最小的k个数。要求：选择合适的排序算法实现上述操作, 计算算法时间复杂度, 并使用python编程实现。\n",
    "2. 建立一个包含这n个数的堆（heap）, 并且调用 k 次Extract-min 按顺序输出最小的k个数。使用往空堆中不断插入元素的方法建立堆, 分析这种方法建堆的时间复杂度, 并使用python编程实现\n",
    "3. \\* 假设数组中包含的数据总数目超过了计算机的存储能力, 请设计一个算法, 找到这堆数据的前k小的数值, 计算时间复杂度, 并使用python实现该算法, 假设计算机一定能存储k个数据。\n",
    "\n",
    "e.g.：\n",
    "---\n",
    "数组arr=[5,4,3,2,6,1,88,33,22,107] 的前3个最小数据为：1, 2, 3\n"
   ]
  },
  {
   "cell_type": "markdown",
   "metadata": {},
   "source": [
    "idea：\n",
    "\n",
    "1.首先对数组进行排序。\n",
    "然后选择排序后数组的前 k 个元素\n",
    "排序的时间复杂度为 $O(nlogn)$，其中 $n$ 是数组的长度。\r\n",
    "选择前$ k$ 个元素的时间复杂度为$ O(k$)，但由于$k$k 远小于$ $n，可以忽略不计。\r\n",
    "总的时间复杂度$为 O(nlog$n\n",
    "\n",
    "\n",
    "2.使用堆（heap）数据结构，特别是最小堆。\n",
    "将所有元素加入堆中，然后依次弹出$ k$ 个元素\n",
    "将所有元素加入堆的时间复杂度为 $O(nlogk)$，因为每次加入堆后可能需要调整堆。\r\n",
    "弹出$ k$ 个元素的时间复杂度为$ O(k$)。\r\n",
    "总的时间复杂度$为 O(nlog$k)。。)。。"
   ]
  },
  {
   "cell_type": "code",
   "execution_count": 14,
   "metadata": {},
   "outputs": [
    {
     "name": "stdout",
     "output_type": "stream",
     "text": [
      "前3个最小数据为：[1, 2, 3]\n",
      "前3个最小数据为：[33, 88, 107]\n"
     ]
    }
   ],
   "source": [
    "# add your code here\n",
    "def find_k_smallest_sort(arr, k):\n",
    "    arr_sorted = sorted(arr)\n",
    "    return arr_sorted[:k]\n",
    "\n",
    "# 测试\n",
    "arr = [5, 4, 3, 2, 6, 1, 88, 33, 22, 107]\n",
    "k = 3\n",
    "print(\"前{}个最小数据为：{}\".format(k, find_k_smallest_sort(arr, k)))\n",
    "import heapq\n",
    "\n",
    "def find_k_smallest_heap(arr, k):\n",
    "    # 创建一个最小堆\n",
    "    min_heap = []\n",
    "    for num in arr:\n",
    "        heapq.heappush(min_heap, num)\n",
    "        if len(min_heap) > k:\n",
    "            heapq.heappop(min_heap)\n",
    "    return sorted(min_heap)\n",
    "\n",
    "# 测试\n",
    "arr = [5, 4, 3, 2, 6, 1, 88, 33, 22, 107]\n",
    "k = 3\n",
    "print(\"前{}个最小数据为：{}\".format(k, find_k_smallest_heap(arr, k)))\n",
    "# your algorithm time complexity is :"
   ]
  },
  {
   "cell_type": "markdown",
   "metadata": {},
   "source": [
    "## 问题 9：\n",
    "\n",
    "**选择问题**:给定一个包含n个未排序值的数组A和一个$k≤n$的整数, 返回A中最小的第k项。\n",
    "\n",
    "在课堂上, 学了一个简单的O(n)随机算法来解决选择问题。事实上还有一种更复杂的最坏情况下时间复杂度为$O(n)$ 的选择算法。假设使用一个黑盒过程来实现这个O(n)选择算法: 给定一个数组A、 $p < r$ 和 k,  $BB(A, p, r, k)$ 可以在$O(r−p+ 1)$时间内找到并报告$A[p..r]$中第k小的项的下标。假设你可以在线性时间内处理Partition过程。\n",
    "\n",
    "1. 请分析如何修改 Quicksork 算法可以使其最差情况下的运行时间为 $O(nlogn)$, 使用伪代码实现, 并分析为何修改后的版本最差情况的运行时间为$O(nlogn)$\n",
    "\n",
    "note: 伪代码中, 你可以直接调用用` BB(A,p,r,k)`这个函数用于表示在最坏情况下时间复杂度为$O(n)$的选择算法；\n",
    "\n",
    "\n",
    "\n",
    "2. 找到一个更好的算法报告数组A中的前k小的项, 使用伪代码表示你的算法, 并分析你算法的时间复杂度。\n",
    "\n",
    "举例：A=[13, 3, 7, 9, 11, 1, 15, 2, 8, 10, 12, 16, 14, 5], 当k=4时, 应该报告1, 2, 3, 4\n",
    "\n",
    "note： 最直观的方法就是先将数组A排序, 然后从左向右报告其前k项, 这样操作的时间复杂度为$O(nlogn)$. 调用用` BB(A,p,r,k)`设计一个算法使其报告无序数组A的前k项, 满足时间复杂度好于$\\Theta(nlogn)$, 并且当$k=\\sqrt{n}$时, 你设计的算法时间复杂度应该为$\\Theta(n)$.\n",
    "\n",
    "\n",
    "\n",
    "3. 给定一个大小为n的数组, 找到一个 时间复杂度为$O(n log k)$ 的算法, 该算法将A中的元素重新排序, 使它们被划分为k个部分, 每个部分的元素小于或等于下一部分的元素。假设n和k都是2的幂。使用伪代码表示你的算法, 并分析时间复杂度。\n",
    "\n",
    "e.g.:\n",
    "---\n",
    "数组：[1,  3,  5,  7,  9,  11,  13,  15,  2,  4,  6,  8,  10,  12,  16,  14], k=4, \n",
    "\n",
    "对应重新排序的数组为：[1,  3,  2,  4]  [7,  6,  5,  8]  [12,  11,  10,  9]  [13,  14,  16,  15]\n",
    "\n",
    "\n"
   ]
  },
  {
   "cell_type": "markdown",
   "metadata": {},
   "source": [
    "idea：\n",
    "\n",
    "1.为了将 Quicksort 算法的最差时间复杂度从$ O(n*n)$) 降低$到 O(nlog$n)，我们需要改进分区（Partition）操作。\r\n",
    "一种改进方法是使用“三数取中”法选择枢纽元素（pivot），即取首元素、中间元素和尾元素的中值作为枢纽。\r\n",
    "另一种方法是使用随机化枢纽选择，以期望在最坏情况$下达到 O(nl$ogn) 的时间\n",
    "\n",
    "2.使用修改后的 Quicksort 算法，通过调用 BB(A, p, r, k) 函数找到第 k 小的元素。\r\n",
    "然后，从数组中选择前 k 个元素\n",
    "\n",
    "3.将数组分成 k 个部分，每个部分包含n/k\r\n",
    "  个元素。\r\n",
    "对每个部分进行排序，然后将它们合并。。复杂度。"
   ]
  },
  {
   "cell_type": "code",
   "execution_count": 15,
   "metadata": {},
   "outputs": [
    {
     "name": "stdout",
     "output_type": "stream",
     "text": [
      "第5个最小元素是：5\n",
      "前5个最小数据为：[1, 2, 3, 5]\n",
      "重新排序后的数组为：[1, 3, 5, 7, 9, 11, 13, 15, 2, 4, 6, 8, 10, 12, 14, 16]\n"
     ]
    }
   ],
   "source": [
    "# add your pseudo-code here\n",
    "#算法一\n",
    "import random\n",
    "\n",
    "def quicksort(arr, low, high):\n",
    "    if low < high:\n",
    "        pivot_index = partition(arr, low, high)\n",
    "        quicksort(arr, low, pivot_index - 1)\n",
    "        quicksort(arr, pivot_index + 1, high)\n",
    "\n",
    "def partition(arr, low, high):\n",
    "    pivot_index = random.randint(low, high)\n",
    "    arr[pivot_index], arr[high] = arr[high], arr[pivot_index]\n",
    "    pivot = arr[high]\n",
    "    i = low - 1\n",
    "    for j in range(low, high):\n",
    "        if arr[j] < pivot:\n",
    "            i += 1\n",
    "            arr[i], arr[j] = arr[j], arr[i]\n",
    "    arr[i + 1], arr[high] = arr[high], arr[i + 1]\n",
    "    return i + 1\n",
    "\n",
    "def find_kth_smallest(arr, k):\n",
    "    k -= 1  # 因为数组索引从0开始\n",
    "    quicksort(arr, 0, len(arr) - 1)\n",
    "    return arr[k]\n",
    "\n",
    "# 测试\n",
    "arr = [13, 3, 7, 9, 11, 1, 15, 2, 8, 10, 12, 16, 14, 5]\n",
    "k = 4\n",
    "print(\"第{}个最小元素是：{}\".format(k + 1, find_kth_smallest(arr, k)))\n",
    "\n",
    "#算法二\n",
    "def find_k_smallest(arr, k):\n",
    "    k -= 1  # 因为数组索引从0开始\n",
    "    quicksort(arr, 0, len(arr) - 1)\n",
    "    return arr[:k+1]\n",
    "\n",
    "# 测试\n",
    "arr = [13, 3, 7, 9, 11, 1, 15, 2, 8, 10, 12, 16, 14, 5]\n",
    "k = 4\n",
    "print(\"前{}个最小数据为：{}\".format(k + 1, find_k_smallest(arr, k)))\n",
    "\n",
    "#算法三\n",
    "def reorder_array(arr, k):\n",
    "    n = len(arr)\n",
    "    size = n // k\n",
    "    result = []\n",
    "    for i in range(k):\n",
    "        result.extend(sorted(arr[i * size:(i + 1) * size]))\n",
    "        if i < n % k:\n",
    "            result.append(arr[i * size + size])\n",
    "    return result\n",
    "\n",
    "# 测试\n",
    "arr = [1, 3, 5, 7, 9, 11, 13, 15, 2, 4, 6, 8, 10, 12, 16, 14]\n",
    "k = 4\n",
    "print(\"重新排序后的数组为：{}\".format(reorder_array(arr, k)))"
   ]
  },
  {
   "cell_type": "markdown",
   "metadata": {},
   "source": [
    "## 问题 10：\n",
    "\n",
    "给定一个包含m个**字符串**的数组A, 其中不同的字符串可能有不同的字符数, 但数组中所有字符串的字符总数为n。设计一个算法在 $O(n)$ 时间内对字符串进行排序, 分析算法设计方案, 计算其时间复杂度, 并基于python编程实现该算法。请注意, 假设字符串只包含\"a\",\"b\",...,\"z\", \n",
    "\n",
    "\n",
    "\n",
    "举例1：数组A=[\"a\", \"da\", \"bde\", \"ab\", \"bc\", \"abdc\", \"cdba\"], 排序后的数组应该为：['a', 'ab', 'abdc', 'bc', 'bde', 'cdba', 'da']\n",
    "\n",
    "\n",
    "\n",
    "举例2：数组A=['ab', 'a', 'b', 'abc', 'ba', 'c'], 排序后的数组应该为：\n",
    "\n",
    "['a', 'ab', 'abc', 'b', 'ba', 'c']\n",
    "\n",
    "\n",
    "\n",
    "举例3：数组A=['aef', 'yzr', 'wr', 'ab', 'bhjc', 'lkabdc', 'pwcdba'],  排序后的数组应该为：['ab', 'aef', 'bhjc', 'lkabdc', 'pwcdba', 'wr', 'yzr']\n",
    "\n",
    "\n",
    "\n",
    "note：\n",
    "\n",
    "-  两个字符之间的比较可以考虑比较他们对应的ASCII码值；\n",
    "- python中可以使用`ord(\"a\")`返回字符 “a”对应的ASCII值"
   ]
  },
  {
   "cell_type": "markdown",
   "metadata": {},
   "source": [
    "idea:\n",
    "由于字符串只包含小写字母 \"a\" 到 \"z\"，我们可以将每个字符串转换为其对应的ASCII码值的元组，然后根据这些元组对字符串进行排序。这种方法的时间复杂度为 $O(nlogn)$，其中 n 是数组中所有字符串的字符总数。\n",
    "\n",
    "将每个字符串转换为ASCII码值的元组的时间复杂度为 $O(n)$，其中 $n $是数组中所有字符串的字符总数。\r\n",
    "使用 sorted 函数对数组进行排序的时间复杂度为$ O(mlogm$)，其中$ $m 是数组的长度。但是，由于我们使用的是元组作为排序的键，实际的时间复杂度更接近于$ O(nlogm$)，其$中 $n 是字符总数。"
   ]
  },
  {
   "cell_type": "code",
   "execution_count": 16,
   "metadata": {},
   "outputs": [
    {
     "name": "stdout",
     "output_type": "stream",
     "text": [
      "排序后的数组应该为: ['a', 'ab', 'abdc', 'bc', 'cdbc', 'da']\n",
      "排序后的数组应该为: ['a', 'ab', 'abc', 'b', 'ba', 'c']\n",
      "排序后的数组应该为: ['ab', 'aef', 'bhjc', 'lkabdc', 'pwcdba', 'yzr']\n"
     ]
    }
   ],
   "source": [
    "# add your code here\n",
    "def sort_strings(arr):\n",
    "    # 将每个字符串转换为ASCII码值的元组，然后根据元组排序\n",
    "    return sorted(arr, key=lambda s: tuple(ord(c) for c in s))\n",
    "\n",
    "# 测试\n",
    "arr1 = [\"a\", \"da\", \"ab\", \"bc\", \"cdbc\", \"abdc\"]\n",
    "print(\"排序后的数组应该为:\", sort_strings(arr1))\n",
    "\n",
    "arr2 = ['ab', 'a', 'b', 'abc', 'ba', 'c']\n",
    "print(\"排序后的数组应该为:\", sort_strings(arr2))\n",
    "\n",
    "arr3 = ['aef', 'yzr', 'ab', 'bhjc', 'lkabdc', 'pwcdba']\n",
    "print(\"排序后的数组应该为:\", sort_strings(arr3))\n",
    "# your algorithm time complexity is :"
   ]
  }
 ],
 "metadata": {
  "kernelspec": {
   "display_name": "Python 3 (ipykernel)",
   "language": "python",
   "name": "python3"
  },
  "language_info": {
   "codemirror_mode": {
    "name": "ipython",
    "version": 3
   },
   "file_extension": ".py",
   "mimetype": "text/x-python",
   "name": "python",
   "nbconvert_exporter": "python",
   "pygments_lexer": "ipython3",
   "version": "3.12.4"
  }
 },
 "nbformat": 4,
 "nbformat_minor": 4
}
